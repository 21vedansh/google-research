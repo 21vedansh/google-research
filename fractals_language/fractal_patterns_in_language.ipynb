{
  "cells": [
    {
      "cell_type": "markdown",
      "metadata": {
        "id": "WXQt5xXDWmpg"
      },
      "source": [
        "\n",
        "This colab provides a walk-through examples for calculating fractal parameters, as described in the following paper:\n",
        "\n",
        "```\n",
        "Alabdulmohsin, Ibrahim, Vinh Q. Tran, and Mostafa Dehghani.\n",
        "\"Fractal Patterns May Unravel the Intelligence in Next-Token Prediction.\"\n",
        "arXiv preprint arXiv:2402.01825 (2024).\n",
        "```\n"
      ]
    },
    {
      "cell_type": "code",
      "execution_count": null,
      "metadata": {
        "cellView": "form",
        "id": "KfmzfvFxPuk7",
        "vscode": {
          "languageId": "python"
        }
      },
      "outputs": [],
      "source": [
        "#@title Licensed under the Apache License, Version 2.0 (the \"License\");\n",
        "# Licensed under the Apache License, Version 2.0 (the \"License\");\n",
        "# you may not use this file except in compliance with the License.\n",
        "# You may obtain a copy of the License at\n",
        "#\n",
        "# https://www.apache.org/licenses/LICENSE-2.0\n",
        "#\n",
        "# Unless required by applicable law or agreed to in writing, software\n",
        "# distributed under the License is distributed on an \"AS IS\" BASIS,\n",
        "# WITHOUT WARRANTIES OR CONDITIONS OF ANY KIND, either express or implied.\n",
        "# See the License for the specific language governing permissions and\n",
        "# limitations under the License."
      ]
    },
    {
      "cell_type": "markdown",
      "metadata": {
        "id": "iOVCm4CnP1Do"
      },
      "source": [
        "\u003ca href=\"https://colab.research.google.com/github/google-research/google-research/blob/master/fractals_language/fractal_patterns_in_language.ipynb\" target=\"_parent\"\u003e\u003cimg src=\"https://colab.research.google.com/assets/colab-badge.svg\" alt=\"Open In Colab\"/\u003e\u003c/a\u003e"
      ]
    },
    {
      "cell_type": "markdown",
      "metadata": {
        "id": "JJ9RmYHecmRU"
      },
      "source": [
        "# Setup"
      ]
    },
    {
      "cell_type": "code",
      "execution_count": null,
      "metadata": {
        "colab": {
          "base_uri": "https://localhost:8080/"
        },
        "executionInfo": {
          "elapsed": 325,
          "status": "ok",
          "timestamp": 1710848398904,
          "user": {
            "displayName": "Ibrahim Alabdulmohsin",
            "userId": "15347871053891839154"
          },
          "user_tz": -60
        },
        "id": "dqFlbYE91guQ",
        "outputId": "a4669df5-685b-47bb-9735-3e4e57a44b8d"
      },
      "outputs": [
        {
          "name": "stdout",
          "output_type": "stream",
          "text": [
            "GPU 0: Tesla T4 (UUID: GPU-10bb6167-0f81-0360-ed99-971ea5fe3cdd)\n",
            "               total        used        free      shared  buff/cache   available\n",
            "Mem:              12           0           7           0           4          11\n",
            "Swap:              0           0           0\n"
          ]
        }
      ],
      "source": [
        "!nvidia-smi -L  # code was tested with T4\n",
        "!free -g"
      ]
    },
    {
      "cell_type": "code",
      "execution_count": null,
      "metadata": {
        "colab": {
          "base_uri": "https://localhost:8080/"
        },
        "executionInfo": {
          "elapsed": 27153,
          "status": "ok",
          "timestamp": 1710848426056,
          "user": {
            "displayName": "Ibrahim Alabdulmohsin",
            "userId": "15347871053891839154"
          },
          "user_tz": -60
        },
        "id": "Q6WXZC7N1t1J",
        "outputId": "e3406c42-1567-41b2-f44a-cfd6cf63b238"
      },
      "outputs": [
        {
          "name": "stdout",
          "output_type": "stream",
          "text": [
            "\u001b[2K     \u001b[90m━━━━━━━━━━━━━━━━━━━━━━━━━━━━━━━━━━━━━━━━\u001b[0m \u001b[32m510.5/510.5 kB\u001b[0m \u001b[31m5.2 MB/s\u001b[0m eta \u001b[36m0:00:00\u001b[0m\n",
            "\u001b[2K     \u001b[90m━━━━━━━━━━━━━━━━━━━━━━━━━━━━━━━━━━━━━━━━\u001b[0m \u001b[32m116.3/116.3 kB\u001b[0m \u001b[31m2.2 MB/s\u001b[0m eta \u001b[36m0:00:00\u001b[0m\n",
            "\u001b[2K     \u001b[90m━━━━━━━━━━━━━━━━━━━━━━━━━━━━━━━━━━━━━━━━\u001b[0m \u001b[32m194.1/194.1 kB\u001b[0m \u001b[31m5.9 MB/s\u001b[0m eta \u001b[36m0:00:00\u001b[0m\n",
            "\u001b[2K     \u001b[90m━━━━━━━━━━━━━━━━━━━━━━━━━━━━━━━━━━━━━━━━\u001b[0m \u001b[32m134.8/134.8 kB\u001b[0m \u001b[31m9.7 MB/s\u001b[0m eta \u001b[36m0:00:00\u001b[0m\n",
            "\u001b[?25h"
          ]
        }
      ],
      "source": [
        "!pip install -q datasets transformers"
      ]
    },
    {
      "cell_type": "code",
      "execution_count": null,
      "metadata": {
        "id": "JfAvhI241xV9"
      },
      "outputs": [],
      "source": [
        "import datasets\n",
        "import torch\n",
        "import tqdm.notebook\n",
        "import transformers\n",
        "\n",
        "import numpy as np\n",
        "import sklearn.linear_model\n",
        "import jax, jax.numpy as jnp\n",
        "\n",
        "import matplotlib\n",
        "import matplotlib.pyplot as plt\n",
        "\n",
        "np.random.seed(2024)"
      ]
    },
    {
      "cell_type": "code",
      "execution_count": null,
      "metadata": {
        "colab": {
          "base_uri": "https://localhost:8080/"
        },
        "executionInfo": {
          "elapsed": 17,
          "status": "ok",
          "timestamp": 1710848440284,
          "user": {
            "displayName": "Ibrahim Alabdulmohsin",
            "userId": "15347871053891839154"
          },
          "user_tz": -60
        },
        "id": "DjdtQXkP1zF9",
        "outputId": "d3ae2f3f-c7ed-4d21-d4c4-5b1471d1c493"
      },
      "outputs": [
        {
          "data": {
            "application/vnd.google.colaboratory.intrinsic+json": {
              "type": "string"
            },
            "text/plain": [
              "'cuda:0'"
            ]
          },
          "execution_count": 4,
          "metadata": {},
          "output_type": "execute_result"
        }
      ],
      "source": [
        "device = \"cuda:0\" if torch.cuda.is_available() else \"cpu\"\n",
        "device"
      ]
    },
    {
      "cell_type": "markdown",
      "metadata": {
        "id": "LKWac6t3lK-3"
      },
      "source": [
        "# Utils"
      ]
    },
    {
      "cell_type": "code",
      "execution_count": null,
      "metadata": {
        "id": "6_y03h7HlMyJ"
      },
      "outputs": [],
      "source": [
        "# These default values are different in the paper. For illustration purposes\n",
        "# here, we use only 100 documents. In the paper, we use 1K documents per domain.\n",
        "# See the docstrings for how to select arguments carefully.\n",
        "\n",
        "DEFAULT_SCALES = [25, 50, 75, 100, 200, 300]\n",
        "DEFAULT_SAMPLES_PER_DOC = 100\n",
        "DEFAULT_EPS = 5e-2\n",
        "\n",
        "\n",
        "latex_context = {\n",
        "    'text.usetex': False,\n",
        "    'mathtext.fontset': 'stix',\n",
        "    'font.family': 'sans-serif',\n",
        "    'font.size': 20.0,\n",
        "    'legend.fontsize': 20.0,\n",
        "    'axes.labelsize': 20.0,\n",
        "    'axes.titlesize': 20.0,\n",
        "    'xtick.labelsize': 20.0,\n",
        "    'ytick.labelsize': 20.0,\n",
        "    'axes.axisbelow': True,\n",
        "}\n",
        "\n",
        "\n",
        "def power_law_fit(x, y):\n",
        "  \"\"\"Fit a power law to the data (x, y).\"\"\"\n",
        "  ones_logx = np.stack([np.ones_like(x), np.log(x)], axis=1)\n",
        "  logy = np.log(y)\n",
        "  clf = sklearn.linear_model.LinearRegression(\n",
        "      fit_intercept=False).fit(ones_logx, logy)\n",
        "  return clf.coef_[0], clf.coef_[1]  # coeff, exponent\n",
        "\n",
        "\n",
        "def plot_power_law(x, y,\n",
        "                   xlabel, ylabel, title='', yscale='',\n",
        "                   ylim=None, xlim=None, xticks=None, yticks=None):\n",
        "  \"\"\"Plot a power law fit to the data (x, y).\"\"\"\n",
        "  if xlim is None:\n",
        "    minx, maxx = min(x), max(x)\n",
        "  else:\n",
        "    minx, maxx = tuple(xlim)\n",
        "\n",
        "  log_beta, c = power_law_fit(x, y)\n",
        "  xp = np.linspace(minx, maxx, 100)\n",
        "  yp = np.exp(log_beta) * np.power(xp, c)\n",
        "\n",
        "  with matplotlib.rc_context({**latex_context}):\n",
        "    fig, axes = plt.subplots(1, 1, figsize=(4, 4), constrained_layout=True)\n",
        "\n",
        "    axes.scatter(x, y, s=200, marker=\"o\")\n",
        "    axes.plot(xp, yp, 'red')\n",
        "    axes.set_xlabel(xlabel)\n",
        "    axes.set_ylabel(ylabel)\n",
        "    axes.set_xscale('log')\n",
        "    axes.grid(axis='y')\n",
        "    axes.set_ylim(ylim)\n",
        "    axes.set_xlim(xlim)\n",
        "    if yscale == 'log': axes.set_yscale('log')\n",
        "    if title: axes.set_title(title)\n",
        "    if xticks: axes.set_xticks(xticks)\n",
        "    if yticks: axes.set_yticks(yticks)\n",
        "  return fig"
      ]
    },
    {
      "cell_type": "markdown",
      "metadata": {
        "id": "MavUzH6Fcr4K"
      },
      "source": [
        "# Language model\n",
        "We use GPT2 as an example in this colab demo."
      ]
    },
    {
      "cell_type": "code",
      "execution_count": null,
      "metadata": {
        "colab": {
          "base_uri": "https://localhost:8080/",
          "referenced_widgets": [
            "bcad87fd132742aeae65cee5a0f5fecb",
            "da3f1af4724a44c2b7c26c983c41f6f3",
            "ab36b05069c34c7285503dd54abb3755",
            "dfb6a67e6394409eb3ad5cd8764ae0b2",
            "559ec76241844f8dad0e32043fc4737c",
            "c08b23e666014b939a7ce8a497e5dbbb",
            "6c634f0f9b7b4429b2cfc4928b4eb7ff",
            "941af0b5713943d7918862efe7bf2c56",
            "61333afe27274f2188db7c896432ce04",
            "aed77868aa944308aa1ff3085fc067bf",
            "36e85ea8cc4a4c82ad9fc7b8a022f900",
            "77418b5d7c314a0e94c61cb761a881a3",
            "5297dfbb0da84771820b549d9e8efd75",
            "c02d058a9ab74f3ba4cc7f6275793702",
            "9ec71254ff634c188995d112186a3b6f",
            "37d6dbb305de47739ab53f83ecc2eb7f",
            "ce16ed15b9d34d4e8190ee45ba7d1a64",
            "96127a471601411ab346e12caecfe7b7",
            "24ffe7ad35344391a81211273a6d5422",
            "9d8a0c286bec44e78a7d3187c44d2225",
            "9aba268d01eb45aebe6d73b4d26e2b26",
            "59fe7387dc5b44df91b85b002a22d4b1",
            "4957aa10e2ed4672a7f6724bbc5184a3",
            "8e7d6ad18cd848aca88bc4d4f4e7e4ed",
            "aa6f16a964e24294be68023c96677cb4",
            "69d754332c904be9bb7111256e8be535",
            "5fc74fee87d2415092734fa7d64a7b4c",
            "37ec9b266ffc4287aad590add208629a",
            "1a1d2b233c96474791631b064fcb6283",
            "906206bc8e704efab83f4539e173acfb",
            "f1f07fca407948c18a5eb95c737a35e7",
            "a26b029c92a048899880e5c079fc1ace",
            "9381c90eaacb48c19b5d87d7e1275651",
            "f08dd8b5ffeb4dcb8b9f86e4258e467d",
            "1ab45cb867d54d9591142197b2350150",
            "53d32d06a3bd4fa4ad68853e840fbb7a",
            "24397247a9284208b173e7c0856418d4",
            "c36cdb762c99498980be1b43c433c17d",
            "68afd09904c44cd0910ca6f9522675e7",
            "b08cf41c6436416db755af3c2cb5b055",
            "72ff1ccc948a485aa0d0b9f23209fa84",
            "8d2b1259cadb430bb1626df81039ebd8",
            "6d4917d46d15412093795317dce41c37",
            "1f104eed409e4cee93b5096c9922739f",
            "a9cdb49b053a48e3928f1b8b94cc41af",
            "0e42c9e425ee48e6902eb8f73279e2b9",
            "e69c2d9819274f69aa7395ab4f3725a4",
            "2410ebd1af8a4ab0a6c6fd56ac3253a8",
            "ad5fedca9f7046219251a83f91312dc8",
            "d84c3448f2fc44d9a51df070d91f6bc6",
            "272a2de69eed4aa388903f6feb6c90a0",
            "3a2df33a9f144afba3c1b29f9c62b1e5",
            "fb24fb822202458fa7af82a525aec4da",
            "a14916569d4a4f158c01f9202b8a729b",
            "46381c57b145477fb47d5925601f0a13",
            "7058309a86bb49bdb8c25c61141dfb90",
            "079561fa448f4fd7a639b947a9fd8631",
            "dd49c054a21445b8a6b676e0a4353700",
            "3275388c13c54f63b2325cc642fdfdf6",
            "3df0c9dc69d247129787e5d986d46ed5",
            "541a7b2ac9064a808413c6c273ee75ab",
            "0ebae4ad345c417f95e8d4eb32dac9e2",
            "c4797675ea8b4c149c93174cc9fbafcc",
            "0216fdca49714d358f702c45b7437499",
            "84b9c5039ca3412a9147ff32b6d1b533",
            "bcdc6b4fb2184e6f9f4360e9470d9c09",
            "e675754756e8492393e3f87176b9eaef",
            "6bae70c7336848c89171e08db1409330",
            "8bc575734d6a47e493c624f9b7847dfb",
            "5b4a255d02614106afa3f18096f716ce",
            "8e63358922f749bf9fb0723d740a51f2",
            "f780591ff670467a870ec2a0f7e89806",
            "c2e1ab17600e4c88b9ac609cbdecbcfc",
            "3446c1da7152476aac79114975f60c49",
            "fd365efd499445ecb2b21527465e3c17",
            "49dda2b0d1bb48f9a003b29bdbf59135",
            "2570d13ac6ba4dc4a7221818a5ca3fd7"
          ]
        },
        "executionInfo": {
          "elapsed": 11565,
          "status": "ok",
          "timestamp": 1710848452162,
          "user": {
            "displayName": "Ibrahim Alabdulmohsin",
            "userId": "15347871053891839154"
          },
          "user_tz": -60
        },
        "id": "hAGDwmb-16hN",
        "outputId": "9877f0a8-9459-460e-99b3-b971eba40780"
      },
      "outputs": [
        {
          "name": "stderr",
          "output_type": "stream",
          "text": [
            "/usr/local/lib/python3.10/dist-packages/huggingface_hub/utils/_token.py:88: UserWarning: \n",
            "The secret `HF_TOKEN` does not exist in your Colab secrets.\n",
            "To authenticate with the Hugging Face Hub, create a token in your settings tab (https://huggingface.co/settings/tokens), set it as secret in your Google Colab and restart your session.\n",
            "You will be able to reuse this secret in all of your notebooks.\n",
            "Please note that authentication is recommended but still optional to access public models or datasets.\n",
            "  warnings.warn(\n"
          ]
        },
        {
          "data": {
            "application/vnd.jupyter.widget-view+json": {
              "model_id": "bcad87fd132742aeae65cee5a0f5fecb",
              "version_major": 2,
              "version_minor": 0
            },
            "text/plain": [
              "config.json:   0%|          | 0.00/665 [00:00\u003c?, ?B/s]"
            ]
          },
          "metadata": {},
          "output_type": "display_data"
        },
        {
          "data": {
            "application/vnd.jupyter.widget-view+json": {
              "model_id": "77418b5d7c314a0e94c61cb761a881a3",
              "version_major": 2,
              "version_minor": 0
            },
            "text/plain": [
              "model.safetensors:   0%|          | 0.00/548M [00:00\u003c?, ?B/s]"
            ]
          },
          "metadata": {},
          "output_type": "display_data"
        },
        {
          "data": {
            "application/vnd.jupyter.widget-view+json": {
              "model_id": "4957aa10e2ed4672a7f6724bbc5184a3",
              "version_major": 2,
              "version_minor": 0
            },
            "text/plain": [
              "generation_config.json:   0%|          | 0.00/124 [00:00\u003c?, ?B/s]"
            ]
          },
          "metadata": {},
          "output_type": "display_data"
        },
        {
          "data": {
            "application/vnd.jupyter.widget-view+json": {
              "model_id": "f08dd8b5ffeb4dcb8b9f86e4258e467d",
              "version_major": 2,
              "version_minor": 0
            },
            "text/plain": [
              "tokenizer_config.json:   0%|          | 0.00/26.0 [00:00\u003c?, ?B/s]"
            ]
          },
          "metadata": {},
          "output_type": "display_data"
        },
        {
          "data": {
            "application/vnd.jupyter.widget-view+json": {
              "model_id": "a9cdb49b053a48e3928f1b8b94cc41af",
              "version_major": 2,
              "version_minor": 0
            },
            "text/plain": [
              "vocab.json:   0%|          | 0.00/1.04M [00:00\u003c?, ?B/s]"
            ]
          },
          "metadata": {},
          "output_type": "display_data"
        },
        {
          "data": {
            "application/vnd.jupyter.widget-view+json": {
              "model_id": "7058309a86bb49bdb8c25c61141dfb90",
              "version_major": 2,
              "version_minor": 0
            },
            "text/plain": [
              "merges.txt:   0%|          | 0.00/456k [00:00\u003c?, ?B/s]"
            ]
          },
          "metadata": {},
          "output_type": "display_data"
        },
        {
          "data": {
            "application/vnd.jupyter.widget-view+json": {
              "model_id": "e675754756e8492393e3f87176b9eaef",
              "version_major": 2,
              "version_minor": 0
            },
            "text/plain": [
              "tokenizer.json:   0%|          | 0.00/1.36M [00:00\u003c?, ?B/s]"
            ]
          },
          "metadata": {},
          "output_type": "display_data"
        }
      ],
      "source": [
        "model_name = 'gpt2'\n",
        "model = transformers.GPT2LMHeadModel.from_pretrained(model_name).to(device)\n",
        "tokenizer = transformers.GPT2Tokenizer.from_pretrained(model_name)"
      ]
    },
    {
      "cell_type": "code",
      "execution_count": null,
      "metadata": {
        "id": "iox3WsMhzyEi"
      },
      "outputs": [],
      "source": [
        "MAX_LENGTH = 1024  # gpt2 max supported sequence length"
      ]
    },
    {
      "cell_type": "markdown",
      "metadata": {
        "id": "hn43PXbGc3sB"
      },
      "source": [
        "# Dataset"
      ]
    },
    {
      "cell_type": "code",
      "execution_count": null,
      "metadata": {
        "colab": {
          "base_uri": "https://localhost:8080/",
          "referenced_widgets": [
            "13604cee687f48b695b2acb5060e2c3c",
            "9465bbd4b743490cbc497386cb9ffa3c",
            "dba085b2ef684af692c1d84b86eedcfd",
            "b850baf051954131a1e7cb3f8dfdf725",
            "a0d76d2ef34c46ac8d4080a4c6b95cdf",
            "aaafb4f4bf2246e798f9a4db8de1a480",
            "3cbbda185174414888cbb7fafaeff814",
            "5d264a52136243638f0f2e36f7f21e01",
            "e356c21dae794623bc5ea0a7410ebcc5",
            "0ca2fffda46b494b80839b668d494ca2",
            "95a8ee8cf82a4255981318b5fb2299e2",
            "a30e5d9105a14102867279a5cdfcb660",
            "733397f839de451fa0688307fca7f6cd",
            "70b047658ae04778a9a4811edc222e9e",
            "7c40617a202d4b1bac23cfbe09e71be0",
            "cce29a250082415aa5dd9df6a1cd126a",
            "1435231b4689441181cdb8d45d8c0b04",
            "e9b0b91531214ee6a05075f07777c334",
            "cc007b8ba38c483baafa57440e18a811",
            "5688f4347093485599e8eea5fb8ceaef",
            "5b21855d6abc448db564ac6ac08ff747",
            "3e6d5e24d276459dba46e24c2646ef89",
            "8403e095f7254c61959f717e380c54e9",
            "bd23b628e2af4b42a1f70b4ae328551c",
            "cd35c7520db844259715605820cea612",
            "ece717b7947d4afeb3f8acf53c1856a1",
            "b50d38556151496587505667ef171bc5",
            "6d876e390f094ef59c0644558bd495b5",
            "09c3126bab2a4526bd385f4b9c6c2ada",
            "c4a3dd09886a47879c973665b20c7429",
            "1a49c73a38174c48ab3790eda1720d3a",
            "724f55d420b74ec5bdf0735466375331",
            "40b6c80b52be4e40b320cd1aaba1a6e1",
            "50128ef5fef94569ae586305ec040cc8",
            "e88230072d0d4fc1ae10025656dbd6da",
            "44b77a7ea2d34047bec15ff4ef389181",
            "65ddbb1358384db2a577791b309869f5",
            "ca63864393494300a292b41bdef3f72e",
            "a0a4ce2d18624bcaa6f729ac0025b71c",
            "82da7e87b96d4eaaad901a23bfc61990",
            "913e1beba5af49cb82da189ae1130349",
            "13884aeb46db4bdf8fd3eb9f070b6c55",
            "8389f969ae234fc58e4d2b9208faab00",
            "725289543c204759b82a72056e558828",
            "123d4f3047cf4f868b7693001f59962a",
            "d292d0fcb94246539f46674385393f4a",
            "285ce6d33b41461c8e643a7ab8f946a0",
            "746e771703a74e6680f7f83f2e2ac37f",
            "adfb13b48b1f4a068fb68b43a5fd0277",
            "e7efc15a52104055a0a18a981f7f20c2",
            "b9873005163f45e3a1ac8cd0d950ec05",
            "4a821bd1414c4f51ae9fbfd02a405cb0",
            "7b25f13f1750496fa5f39aa4b3fa8c7c",
            "c41ac5d3f4a04f1cb21e5d1ff41ff3b1",
            "a1b3231458e7411abb1c5c2976af966e",
            "d5cef1d048d04b359bb1ae3fd8a5db1c",
            "48655af6162944a6bae3f18d2f9badff",
            "6e1a7d2bfd5c40ad9ecbe6fe026f7a5c",
            "4415de1932744d51b3e6b6d11db737ed",
            "871ac992bca641ac933d99c3ebbb2c59",
            "c033335cbc8b4f66a6a54fc142399676",
            "d4d982f8f80b4a288d9e0bfdba39b982",
            "8147a4ce6e85478783c2f02f13cf44a6",
            "4538a1f994c84176affd833f5378723b",
            "5647d86944b446b7a24024271aa0aa24",
            "f2a4b1e8a267417d832c89738faf1d24",
            "11e3b1df0b054b518123be88f1bdb827",
            "6384318623a04c13a18761548d7a4103",
            "7f43b8320d9e40d492153a34a1feb76d",
            "f96da2cc02424353a9872b9347359bf9",
            "16122c545a0a417a83142c52b4ca5631",
            "3b1c9a33bb8a4f4a8219ba1ce8b83c28",
            "5aa01444a73048b4b2381906968425c3",
            "6de3031f86d04e049e40c41329d9e7ad",
            "51f8da55952547829bbda7d35984f77d",
            "0ef7374cd0644f138d7a0b09e6838641",
            "0cb769c65aa34a94930fea5e23f24464"
          ]
        },
        "executionInfo": {
          "elapsed": 466419,
          "status": "ok",
          "timestamp": 1710848918579,
          "user": {
            "displayName": "Ibrahim Alabdulmohsin",
            "userId": "15347871053891839154"
          },
          "user_tz": -60
        },
        "id": "fMkafvTK19a4",
        "outputId": "40ef93ec-fd3b-4557-f4f8-705bea02f710"
      },
      "outputs": [
        {
          "name": "stderr",
          "output_type": "stream",
          "text": [
            "/usr/local/lib/python3.10/dist-packages/datasets/load.py:1461: FutureWarning: The repository for scientific_papers contains custom code which must be executed to correctly load the dataset. You can inspect the repository content at https://hf.co/datasets/scientific_papers\n",
            "You can avoid this message in future by passing the argument `trust_remote_code=True`.\n",
            "Passing `trust_remote_code=True` will be mandatory to load this dataset from the next major release of `datasets`.\n",
            "  warnings.warn(\n"
          ]
        },
        {
          "data": {
            "application/vnd.jupyter.widget-view+json": {
              "model_id": "13604cee687f48b695b2acb5060e2c3c",
              "version_major": 2,
              "version_minor": 0
            },
            "text/plain": [
              "Downloading builder script:   0%|          | 0.00/5.35k [00:00\u003c?, ?B/s]"
            ]
          },
          "metadata": {},
          "output_type": "display_data"
        },
        {
          "data": {
            "application/vnd.jupyter.widget-view+json": {
              "model_id": "a30e5d9105a14102867279a5cdfcb660",
              "version_major": 2,
              "version_minor": 0
            },
            "text/plain": [
              "Downloading readme:   0%|          | 0.00/8.27k [00:00\u003c?, ?B/s]"
            ]
          },
          "metadata": {},
          "output_type": "display_data"
        },
        {
          "data": {
            "application/vnd.jupyter.widget-view+json": {
              "model_id": "8403e095f7254c61959f717e380c54e9",
              "version_major": 2,
              "version_minor": 0
            },
            "text/plain": [
              "Downloading data:   0%|          | 0.00/3.62G [00:00\u003c?, ?B/s]"
            ]
          },
          "metadata": {},
          "output_type": "display_data"
        },
        {
          "data": {
            "application/vnd.jupyter.widget-view+json": {
              "model_id": "50128ef5fef94569ae586305ec040cc8",
              "version_major": 2,
              "version_minor": 0
            },
            "text/plain": [
              "Downloading data:   0%|          | 0.00/880M [00:00\u003c?, ?B/s]"
            ]
          },
          "metadata": {},
          "output_type": "display_data"
        },
        {
          "data": {
            "application/vnd.jupyter.widget-view+json": {
              "model_id": "123d4f3047cf4f868b7693001f59962a",
              "version_major": 2,
              "version_minor": 0
            },
            "text/plain": [
              "Generating train split:   0%|          | 0/203037 [00:00\u003c?, ? examples/s]"
            ]
          },
          "metadata": {},
          "output_type": "display_data"
        },
        {
          "data": {
            "application/vnd.jupyter.widget-view+json": {
              "model_id": "d5cef1d048d04b359bb1ae3fd8a5db1c",
              "version_major": 2,
              "version_minor": 0
            },
            "text/plain": [
              "Generating validation split:   0%|          | 0/6436 [00:00\u003c?, ? examples/s]"
            ]
          },
          "metadata": {},
          "output_type": "display_data"
        },
        {
          "data": {
            "application/vnd.jupyter.widget-view+json": {
              "model_id": "11e3b1df0b054b518123be88f1bdb827",
              "version_major": 2,
              "version_minor": 0
            },
            "text/plain": [
              "Generating test split:   0%|          | 0/6440 [00:00\u003c?, ? examples/s]"
            ]
          },
          "metadata": {},
          "output_type": "display_data"
        },
        {
          "data": {
            "text/plain": [
              "DatasetInfo(description='\\nScientific papers datasets contains two sets of long and structured documents.\\nThe datasets are obtained from ArXiv and PubMed OpenAccess repositories.\\n\\nBoth \"arxiv\" and \"pubmed\" have two features:\\n  - article: the body of the document, pagragraphs seperated by \"/n\".\\n  - abstract: the abstract of the document, pagragraphs seperated by \"/n\".\\n  - section_names: titles of sections, seperated by \"/n\".\\n\\n', citation='\\n@article{Cohan_2018,\\n   title={A Discourse-Aware Attention Model for Abstractive Summarization of\\n            Long Documents},\\n   url={http://dx.doi.org/10.18653/v1/n18-2097},\\n   DOI={10.18653/v1/n18-2097},\\n   journal={Proceedings of the 2018 Conference of the North American Chapter of\\n          the Association for Computational Linguistics: Human Language\\n          Technologies, Volume 2 (Short Papers)},\\n   publisher={Association for Computational Linguistics},\\n   author={Cohan, Arman and Dernoncourt, Franck and Kim, Doo Soon and Bui, Trung and Kim, Seokhwan and Chang, Walter and Goharian, Nazli},\\n   year={2018}\\n}\\n', homepage='https://github.com/armancohan/long-summarization', license='', features={'article': Value(dtype='string', id=None), 'abstract': Value(dtype='string', id=None), 'section_names': Value(dtype='string', id=None)}, post_processed=None, supervised_keys=None, task_templates=None, builder_name='scientific_papers', dataset_name='scientific_papers', config_name='arxiv', version=1.1.1, splits={'train': SplitInfo(name='train', num_bytes=7148341740, num_examples=203037, shard_lengths=[15000, 15000, 15000, 15000, 15000, 15000, 15000, 15000, 15000, 15000, 15000, 15000, 15000, 8037], dataset_name='scientific_papers'), 'validation': SplitInfo(name='validation', num_bytes=217125512, num_examples=6436, shard_lengths=None, dataset_name='scientific_papers'), 'test': SplitInfo(name='test', num_bytes=217514949, num_examples=6440, shard_lengths=None, dataset_name='scientific_papers')}, download_checksums={'https://s3.amazonaws.com/datasets.huggingface.co/scientific_papers/1.1.1/arxiv-dataset.zip': {'num_bytes': 3624420843, 'checksum': None}, 'https://s3.amazonaws.com/datasets.huggingface.co/scientific_papers/1.1.1/pubmed-dataset.zip': {'num_bytes': 880225504, 'checksum': None}}, download_size=4504646347, post_processing_size=None, dataset_size=7582982201, size_in_bytes=12087628548)"
            ]
          },
          "execution_count": 8,
          "metadata": {},
          "output_type": "execute_result"
        }
      ],
      "source": [
        "ds = datasets.load_dataset('scientific_papers', 'arxiv', split='validation')\n",
        "ds.info"
      ]
    },
    {
      "cell_type": "markdown",
      "metadata": {
        "id": "az-KEIqYc-un"
      },
      "source": [
        "When calculating fractal parameters, we calculate them over a collection of documents, to ensure we have enough independent samples when estimating, for example, autocorrelations. In the paper, we used 1K documents per domain. For illustration purposes here, we only use 100."
      ]
    },
    {
      "cell_type": "code",
      "execution_count": null,
      "metadata": {
        "colab": {
          "base_uri": "https://localhost:8080/",
          "referenced_widgets": [
            "5f0b2051f5e64ef3911ebec0feb70d1c",
            "0a1f526781f14c3b9964ad9ab43ca726",
            "9cd7b8ef0ff241299baa0db7194a9285",
            "3e989ffa066b495c879b72b2dc46f642",
            "6eda6df9b48e47c3ad523c559cb17980",
            "67bf3eb67e334bfd8b1449879f1e6b79",
            "f877d7fb02f444e886af5560c1b7c732",
            "0bc79506d383473d8d4f2a3afac35ff2",
            "9d519fc43cc14f5c862afc07b4ff7bf2",
            "16e4504328564446b5493b14552ccfec",
            "e1e621c950394ec9b6fad7b01675c249"
          ]
        },
        "executionInfo": {
          "elapsed": 347,
          "status": "ok",
          "timestamp": 1710848918908,
          "user": {
            "displayName": "Ibrahim Alabdulmohsin",
            "userId": "15347871053891839154"
          },
          "user_tz": -60
        },
        "id": "PmmIbWwO4fEE",
        "outputId": "639ea9a8-b706-40ff-bf25-626cfc2dc421"
      },
      "outputs": [
        {
          "data": {
            "application/vnd.jupyter.widget-view+json": {
              "model_id": "5f0b2051f5e64ef3911ebec0feb70d1c",
              "version_major": 2,
              "version_minor": 0
            },
            "text/plain": [
              "  0%|          | 0/100 [00:00\u003c?, ?it/s]"
            ]
          },
          "metadata": {},
          "output_type": "display_data"
        },
        {
          "data": {
            "text/plain": [
              "100"
            ]
          },
          "execution_count": 9,
          "metadata": {},
          "output_type": "execute_result"
        }
      ],
      "source": [
        "num_documents = 100  #@param = 'int'\n",
        "it = iter(ds)\n",
        "\n",
        "texts = []\n",
        "for _ in tqdm.notebook.tqdm(range(num_documents)):\n",
        "  b = next(it)\n",
        "  texts.append(b['article'])  # + '\\n'\n",
        "len(texts)"
      ]
    },
    {
      "cell_type": "code",
      "execution_count": null,
      "metadata": {
        "colab": {
          "base_uri": "https://localhost:8080/"
        },
        "executionInfo": {
          "elapsed": 10,
          "status": "ok",
          "timestamp": 1710848918909,
          "user": {
            "displayName": "Ibrahim Alabdulmohsin",
            "userId": "15347871053891839154"
          },
          "user_tz": -60
        },
        "id": "XXQDBV8N9Z4A",
        "outputId": "369efe50-3473-4aee-d12f-d6a0670fbb17"
      },
      "outputs": [
        {
          "data": {
            "application/vnd.google.colaboratory.intrinsic+json": {
              "type": "string"
            },
            "text/plain": [
              "\"the interest in anchoring phenomena and phenomena in confined nematic liquid crystals has largely been driven by their potential use in liquid crystal display devices .\\nthe twisted nematic liquid crystal cell serves as an example .\\nit consists of a nematic liquid crystal confined between two parallel walls , both providing homogeneous planar anchoring but with mutually perpendicular easy directions . in this case\\nthe orientation of the nematic director is tuned by the application of an external electric or magnetic field .\\na precise control of the surface alignment extending over large areas is decisive for the functioning of such devices .\\nmost studies have focused on nematic liquid crystals in contact with laterally uniform substrates . on the other hand substrate inhomogeneities\\narise rather naturally as a result of surface treatments such as rubbing .\\nthus the nematic texture near the surface is in fact non - uniform .\\nthis non - uniformity , however , is smeared out beyond a decay length proportional to the periodicity of the surface pattern .\\nvery often the thickness of the non - uniform surface layer is considerably smaller than both the wavelength of visible light and the thickness of the nematic cell , i.e. , the distance between the two confining parallel walls\\n. hence optical properties of the nematic liquid crystal confined between such substrates correspond to those resulting from effective , uniform substrates .\\nmore recent developments have demonstrated that surfaces patterned with a large periodicity of some micrometers are of considerable interest from a technological point of view ( see , e.g. , ref .\\n@xcite and references therein ) .\\na new generation of electro - optical devices relies on nematic liquid crystals with patterned orientation of the nematic director over small areas which can be achieved by chemically patterning the confining surfaces .\\nfor example , to produce flat - panel displays with wide viewing angles one can use pixels that are divided into sub - pixels , where each sub - pixel is defined by a different orientation of the nematic director , which is induced by the surface structure and subsequently tuned by the electric field .\\nin addition to the technological relevance , nematic liquid crystals in contact with non - uniform substrates provide the opportunity to study basic phenomena such as effective elastic forces between the substrates and phase transitions between various competing nematic textures ( see , e.g. , ref .\\n@xcite and references therein ) .    whereas the influence of homogeneous confining substrates on nematic liquid crystals is now well understood ,\\nthe phase behavior of nematic liquid crystals in contact with chemically or geometrically patterned substrates is still debated .\\none might suppose that theoretical calculations based on continuum theories should resolve the properties of nematic liquid crystals in contact with patterned substrates @xcite .\\nhowever , such calculations are numerically demanding because two- or three - dimensional grids have to be used because of the broken symmetry due to the surface pattern .\\nmoreover , it is very challenging to determine metastable states and energy barriers between them which are important for the understanding of bistable nematic devices @xcite . in the present paper\\nwe adopt a different strategy which takes the advantage of the finite decay length characterizing the influence of the surface pattern on the nematic liquid crystal in the direction perpendicular to the substrate .\\nwe determine first an anchoring energy function and an average surface director orientation of the patterned substrate and obtain an effective free energy for the nematic liquid crystal cell under consideration .\\nwe find remarkably good agreement between the phase diagrams of various systems calculated using this effective free energy function on the one hand and the original free energy functional on the other hand .\\nthe continuum theory for liquid crystals has its origin dating back to at least the work of oseen @xcite and zocher @xcite .\\nthis early version of the continuum theory for nematic liquid crystals played an important role for the further development of the static theory and its more direct formulation by frank @xcite .\\nthe frank theory is formulated in terms of the so - called nematic director @xmath0 , @xmath1 , and its possible spatial distortions .\\nthe nematic director describes the direction of the locally averaged molecular alignment in liquid crystals . in a nematic liquid crystal\\nthe centers of mass of the liquid crystal molecules do not exhibit long - ranged order .\\nthe molecules can translate freely while being aligned , on average , parallel to one another and to the nematic director .\\nit is known that if an initially uniform nematic liquid crystal is distorted by external forces , it relaxes back to the uniform state after the disturbing influence is switched off , signaling that the uniform configuration represents a thermodynamically stable state .\\ntherefore it is assumed that there is a cost in free energy associated with elastic distortions of the nematic director of the form @xmath2\u0026=\u0026\\\\frac{1}{2}\\\\int_v\\nd^3 r\\\\,\\\\left[k_{11}\\\\left(\\\\nabla\\\\cdot\\\\hat{{\\\\bf n}}\\\\right)^2\\\\right.\\\\nonumber \\\\\\\\\u0026+\u0026\\\\!\\\\!\\\\!\\\\left.k_{22}(\\\\hat{{\\\\bf n}}\\\\cdot(\\\\nabla \\\\times\\\\hat{{\\\\bf n}}))^2 + k_{33}(\\\\hat{{\\\\bf n}}\\\\times(\\\\nabla \\\\times \\\\hat{{\\\\bf n}}))^2\\\\right],\\\\nonumber \\\\\\\\ \u0026 \u0026 \\\\label{eq1}\\\\end{aligned}\\\\ ] ] where @xmath3 is the volume accessible to the nematic liquid crystal and @xmath4 , @xmath5 , and @xmath6 are elastic constants associated with splay , twist , and bend distortions , respectively .\\nthe elastic constants depend on temperature and are commonly of the order @xmath7 to . sometimes , for example , when the relative values of the elastic constants are unknown or when the resulting euler - lagrange equations are complicated , the one - constant approximation @xmath8 is made . in this case\\nthe elastic free energy functional reduces to @xmath9\u0026=\u0026\\\\frac{k}{2}\\\\int_v d^3 r\\\\,\\\\left(\\\\nabla\\\\hat{{\\\\bf n}}\\\\right)^2\\\\,.\\\\end{aligned}\\\\ ] ] in the presence of surfaces the bulk free energy @xmath10 must be supplemented by the surface free energy @xmath11 such that the total free energy is given by @xmath12 . in the corresponding equilibrium euler - lagrange equations @xmath13 , @xmath11 leads to appropriate boundary conditions .\\nthe description of the nematic director alignment at the surfaces forming the boundaries is called anchoring .\\nin addition to the so - called free boundary condition where there is no anchoring , one considers weak and strong anchoring . if there are no anchoring conditions imposed on @xmath14 at the boundary , the bulk free energy @xmath15 is minimized using standard techniques of the calculus of variations . in the case of strong anchoring it\\nis also sufficient to minimize the bulk free energy but subject to @xmath14 taking prescribed fixed values at the boundary . in the case of weak\\nanchoring the total free energy @xmath16 , which includes the surface free energy @xmath11 , has to be minimized .\\nthe most commonly used expression for the surface free energy is of the form proposed by rapini and papoular by @xcite : @xmath17=\\\\frac{1}{2}\\\\int_{s } d^2 r\\\\,w({\\\\bf r } ) ( \\\\hat{{\\\\bf n}}\\\\cdot{\\\\nu})^2.\\\\ ] ] the integral runs over the boundary and @xmath18 is the corresponding anchoring strength that characterizes the surface .\\nthe local unit vector perpendicular to the surface is denoted as @xmath14 . for negative @xmath19\\n, this contribution favors an orientation of the molecules perpendicular to the surface , while positive @xmath19 favor degenerate planar orientations at the surface .\\nthe absolute value of the anchoring strength is commonly of the order @xmath20 to .\\nhere we consider a nematic liquid crystal confined between a patterned substrate at @xmath21 and a flat substrate at @xmath22 where the @xmath23 axis is normal to the flat substrate . as figs .\\n[ fig1 ] ( a ) , ( c ) , and ( d ) illustrate , the lower substrate is characterized by geometrical and/or chemical patterns of periodicity @xmath24 along the @xmath25 axis . moreover , the system is translationally invariant in the @xmath26 direction . within the one - constant approximation [ eq .  ( [ eq2 ] ) ] the total free energy functional is given by @xmath27=}\\\\nonumber \\\\\\\\\u0026\u0026\\\\frac{kl}{2}\\\\int\\\\limits_0^p dx\\\\ , \\\\int\\\\limits_{z_0(x)}^d dz\\\\ , [ \\\\nabla\\\\theta(x , z)]^2+f_s[\\\\theta(x , z_0(x))]\\\\ , , \\\\label{eq4}\\\\end{aligned}\\\\ ] ] where @xmath28 is the extension of the system in @xmath26 direction , @xmath29 is the surface profile of the patterned substrate , and @xmath30 . at the upper surface\\nstrong anchoring @xmath31 is imposed .\\ntwist is not considered , i.e. , @xmath32 .\\nof course , the analysis can be straightforwardly extended to the case of different splay and bend constants @xmath4 and @xmath6 , respectively , but this aspect of the problem is important only if the analysis is supposed to yield quantitative results for a specific nematic liquid crystal .\\nthe surface contribution @xmath33 $ ] includes the anchoring energy for which the rapini - papoular form [ eq .  ( [ eq3 ] ) ] is adopted :    .\\nthe upper flat substrate induces strong anchoring , i.e. , @xmath31 , while the lower substrate is characterized by a surface pattern of period @xmath24 in @xmath25 direction .\\nthe system is translational invariant in @xmath26 direction perpendicular to the plane of the figure . in ( a ) the lower sinusoidally grating surface ( groove depth @xmath34 )\\nis endowed with an alternating stripe pattern of locally homeotropic anchoring ( white bars ) and homogeneous planar anchoring ( black bars ) .\\nthe period of the chemical pattern is half the period of the surface grating @xmath24 . in ( c ) and\\n( d ) a pure geometrically structured lower substrate and pure chemically patterned lower substrate , respectively , are shown .\\nthe anchoring direction at the substrates is schematically represented by black rods .\\nquantitatively reliable predictions of the phase behavior of a nematic liquid crystal confined between two substrates at an _ arbitrary _ mean distance @xmath35 in ( a ) can be achieved if the effective free energy function [ eqs .\\n( [ eq6 ] ) - ( [ eq8 ] ) ] is analyzed . to this end\\nthe free energy functional of the nematic liquid crystal confined between two substrates at a _ single _ and rather small mean distance @xmath36 in ( b ) has to be minimized as is discussed in the main text.,width=302 ]    @xmath37=}\\\\nonumber \\\\\\\\\u0026\u0026\\\\!\\\\!\\\\!\\\\!\\\\!\\\\frac{l}{2}\\\\int^p_0 dx\\\\ , w(x)\\\\frac{\\\\left(-\\\\sin(\\\\theta_0(x))z'_0(x)+\\\\cos(\\\\theta_0(x))\\\\right)^2 } { \\\\sqrt{1+(z'_0(x))^2}},\\\\end{aligned}\\\\ ] ]    where @xmath38 .\\nequations ( [ eq4 ] ) and ( [ eq5 ] ) together with the boundary condition for the nematic director at the upper surface completely specify the free energy functional for the system under consideration .\\nthe euler - langrange equations resulting from the stationary conditions of the total free energy with respect to the nematic director field can be solved numerically on a sufficiently fine two - dimensional grid using an iterative method . in order to obtain both stable and metastable configurations , different types of initial configurations\\nhowever , due to the pattern of the lower surface the determination of the director field and the phase diagram turns out to be a challenging numerical problem in particular in the case of large cell widths @xmath35 .\\nmoreover , the energy barrier between two metastable states can not be determined this way .      here\\nwe map the free energy functional @xmath39 $ ] [ eq .\\n( [ eq4 ] ) ] of a nematic liquid crystal cell with _ arbitrary _\\nwidth @xmath35 and arbitrary anchoring angle @xmath40 at the upper surface ( see fig .\\n[ fig1 ]  ( a ) ) onto the effective free energy function @xmath41 where the average surface director orientation @xmath42 @xcite at the lower patterned surface is given by @xmath43 the effective surface free energy function @xmath44 characterizing the anchoring energy at the patterned surface can be written as @xmath45 in order to calculate @xmath42 and @xmath44 explicitly , we first determine numerically the minimum of the free energy @xmath46 of the nematic liquid crystal cell for a _ single _ and rather small value @xmath47 and arbitrary anchoring angle @xmath48 at the upper surface ( see fig .\\n[ fig1 ]  ( b ) ) .\\nthereafter the phase behavior , energy barriers between metastable states , and effective anchoring angles for the system of interest ( fig .\\n[ fig1 ]  ( a ) ) can be obtained for _ arbitrary _ values of @xmath35 and @xmath40 from @xmath49 as a function of the single variable @xmath42 .\\nsuch a calculation is considerably less challenging than minimizing the original free energy functional @xmath39 $ ] with respect to @xmath50 on a two - dimensional @xmath51 grid .\\nhowever , the effective free energy method is applicable only if eq .\\n( [ eq7 ] ) can be inverted in order to obtain @xmath52 which is needed as input into eq .\\n( [ eq8 ] ) .\\nthe condition for this inversion follows from eq .\\n( [ eq7 ] ) : @xmath53 moreover , @xmath54 is practically independent of the cell width @xmath36 provided @xmath55 implying that the interfacial region above the lower substrate does not extend to the upper substrate .    before studying the nematic liquid crystal in contact with the patterned substrates shown in fig .  [ fig1 ]\\nit is instructive to analyze first the nematic liquid crystal confined between two homogeneous flat substrates at a distance @xmath35 .\\nthe upper surface induces strong anchoring , i.e. , .\\nthe free energy functional defined in eq .\\n( [ eq4 ] ) follows as @xmath56\u0026\\\\!\\\\!=\\\\!\\\\!\u0026\\\\frac{klp}{2}\\\\int\\\\limits_0^d dz\\\\ , \\\\left(\\\\frac{d \\\\theta(z)}{d z}\\\\right)^2+f_s(\\\\theta_0).\\\\end{aligned}\\\\ ] ] the solution of the euler - langrange equation @xmath57 subject to the boundary condition at the upper surface @xmath58 interpolates linearly between the top and bottom surfaces :    @xmath59    where @xmath60 follows from the boundary condition at the lower surface . with this solution of the euler - lagrange equation\\nthe minimized free energy function reads @xmath61 it follows directly from eqs .\\n( [ eq6 ] ) - ( [ eq8 ] ) that @xmath62 , @xmath63 , and @xmath64 hence in the case of homogeneous confining substrates the effective free energy function [ eq .\\n( [ eq13 ] ) ] agrees exactly with the minimized free energy function of the original system [ eq .\\n( [ eq12 ] ) ] .\\nin the previous section we have shown that we can describe a nematic liquid crystal confined between two homogeneous substrates by the effective free energy function [ eq .  ( [ eq6 ] ) ] . in this subsection\\nwe apply this approach to the particular case of a nematic liquid crystal confined between a chemically patterned sinusoidal surface and a flat substrate with strong homeotropic anchoring ( see fig .\\n[ fig1 ]  ( a ) ) . the surface profile of the grating surface\\nis given by @xmath65 , where @xmath34 is the groove depth and @xmath66 is the period .\\nas figure [ fig1 ] ( a ) illustrates , the surface exhibits a pattern consisting of alternating stripes with locally homeotropic and homogeneous planar anchoring .\\nthe projection of the widths of the stripes onto the @xmath25 axis is @xmath67 and the anchoring strength is specified by a periodic step function : @xmath68 and @xmath69 for values of @xmath25 on the homeotropic and planar stripes , respectively .\\nfigure [ fig2 ] ( a ) displays @xmath70 ( dashed line ) and @xmath71 ( solid line ) for @xmath72 , @xmath73 , and @xmath74 . the shapes of @xmath70 as a function of @xmath48 and @xmath71 as a function of @xmath42 are rather similar because @xmath75 ( see eq .\\n( [ eq8 ] ) ) for this set of model parameters .\\nfigure [ fig2 ] ( b ) displays the phase diagram plotted as a function of the anchoring angle @xmath40 at the upper substrate and the mean separation of the substrates @xmath35 .\\nthe calculations demonstrate the existence of two ( stable or metastable ) nematic director configurations : the homeotropic ( h ) phase , in which the director field is almost uniform and parallel to the anchoring direction imposed at the upper surface , i.e. , @xmath76 , and the hybrid aligned nematic ( han ) phase , in which the director field varies from @xmath77 at the upper surface to nearly planar orientation through the cell .\\nnote that there are two han textures : han@xmath78 and han@xmath79 corresponding to positive and negative average surface angles at the lower surface ( see also fig .  [\\nfig : diagram ] below ) . for small anchoring angles @xmath40 the han phases\\nare stable provided the cell width is larger than @xmath80 ( more precisely , the han@xmath78 texture is stable for @xmath81 while the han@xmath79 texture is stable for @xmath82 and they coexist at @xmath83 ) . for smaller distances between the substrates\\n@xmath84 the han phases are no longer stable because distortions of the director field are too costly in the presence of the dominating strong anchoring at the upper surface . the comparison of the phase boundary of thermal equilibrium as obtained from the effective free energy method [ eqs .\\n( [ eq6 ] ) - ( [ eq8 ] ) , and solid line in fig .  [ fig2 ]  ( b ) ] and the direct minimization of the underlying free energy functional [ eqs .\\n( [ eq4 ] ) and ( [ eq5 ] ) , and diamonds in fig .  [ fig2 ]  ( b ) ] demonstrate the reliability of the effective free energy method .\\n( see fig .\\n[ fig1 ]  ( b ) ) .\\n@xmath28 is the extension of the cell in the invariant @xmath26 direction , @xmath85 is the isotropic elastic constant , and the anchoring strength on the homeotropic stripes ( white bars in fig .\\n[ fig1 ]  ( b ) ) and planar anchoring stripes ( black bars in fig .\\n[ fig1 ]  ( b ) ) are @xmath72 and @xmath73 , respectively .\\n( b ) phase diagram of the same system as a function of the anchoring angle at the upper flat substrate @xmath40 and the cell width @xmath35 ( see fig .  [ fig1 ]  ( a ) ) .\\nthe solid line denotes first order phase transitions between a homeotropic ( h ) and hybrid aligned nematic ( han@xmath78 and han@xmath79 ) phases . at @xmath86 and @xmath87 there is a triple point where the han@xmath78 , han@xmath79 , and h states coexist .\\nthe solid circle marks the critical point at @xmath88 and @xmath89 .\\nthe limits of metastability of the han@xmath78 ( 1 ) and the h ( 2 ) state are denoted by the dot - dashed lines .\\nthe limit of metastability of the h state for @xmath82 and the han@xmath79 state are not shown for clearness .\\nthe lines and the solid circle follow from analyzing the effective free energy function [ eqs .\\n( [ eq6 ] ) - ( [ eq8 ] ) ] while the diamonds represent the phase boundary of thermal equilibrium as obtained from a direct minimization of the underlying free energy functional [ eqs .\\n( [ eq4 ] ) and ( [ eq5])].,width=302 ]     ( see fig .  [ fig1 ]  ( b ) ) . the anchoring strength on the homeotropic stripes and planar anchoring stripes are @xmath90 and @xmath91 , respectively .\\n( b ) phase diagram of the same system as a function of the anchoring angle at the upper flat substrate @xmath40 and the cell width @xmath35 ( see fig .\\n[ fig1 ]  ( a ) ) .\\nthe solid line denotes the first order phase transition between a homogeneous ( h ) and hybrid aligned nematic ( han@xmath78 ) phase .\\nthe solid circle marks the critical point at @xmath92 and @xmath93 .\\nthe limits of metastability of the han@xmath78 ( 1 ) and the h ( 2 ) state are denoted by the dot - dashed lines .\\nthe lines follow from analyzing the effective free energy function [ eqs .\\n( [ eq6 ] ) - ( [ eq8 ] ) ] while the diamonds and the solid circle represent the phase boundary and a critical point as obtained from a direct minimization of the underlying free energy functional [ eqs .\\n( [ eq4 ] ) and ( [ eq5 ] ) ] . for @xmath94\\nthe phase transition as well as the limits of metastability can not be determined using the effective free energy function because @xmath95 is not known in the region close to its maximum . for clearness ,\\nonly the phase diagram for positive @xmath40 is shown ( c.f .\\n[ fig2]).,width=302 ]    we note that the phase transition between the h and han textures is first order despite the fact that the effective surface free energy favors monostable planar anchoring , i.e. , @xmath44 exhibits only a minimum at @xmath96 in the interval @xmath97 $ ] .\\na first order phase transition in a nematic liquid crystal device with a monostable anchoring condition on a homogeneous lower substrate has been predicted for the special case @xmath98 in refs .\\n@xcite using the empirical expression @xmath99 as input into eq .\\n( [ eq13 ] ) . for @xmath100\\nthis surface free energy has two minima at @xmath101 and @xmath102 in the interval @xmath103 $ ] , and as such is bistable , while for @xmath104 , only the minimum @xmath101 exists , i.e. , the surface is monostable . to study the stability limit of the h phase\\nwe expand @xmath105 in eq .\\n( [ eq13 ] ) around @xmath101 up to sixth order : @xmath106 the h phase corresponds to a local minimum of @xmath105 in eq .\\n( [ eq13 ] ) if @xmath107 , where @xmath108 a standard bifurcation analysis reveals that the transition from the h phase to the han phase can be either first order or continuous .\\nthe transition is continuous if @xmath109 , first order if @xmath110 , and @xmath111 corresponds to a tricritical point . in the case of a first order phase transition\\nthe phase boundary of thermal equilibrium is given by @xmath112 we emphasize that the order of the phase transition depends only on the surface free energy @xmath113 close to @xmath101 for @xmath98 .\\ntherefore it is possible to have a first order phase transition even with a monostable surface characterized by a monotonic surface free energy such as the one shown in fig .\\n[ fig2 ]  ( a ) for @xmath114 $ ] or the empirical equation ( [ eq14 ] ) with @xmath104 as well the more general expression @xcite @xmath115\\\\end{aligned}\\\\ ] ] with appropriate parameters @xmath116 and @xmath117 .\\nfirst order phase transitions between the h and han texture are of particular interest for bistable liquid crystal displays . in a bistable liquid crystal display\\nthe two molecular configurations corresponding to light and dark states are locally stable in the thermodynamic space when the applied voltage is removed @xcite . therefore , power is needed only to switch from one stable state to another , in contrast to monostable liquid crystal displays which require power to switch and to maintain the light and the dark states .\\nwe now turn our attention to the case that it is not possible to evaluate @xmath118 from @xmath119 [ eq .  ( [ eq7 ] ) ] because the condition for this inversion is not satisfied [ eq .  ( [ eq9 ] ) ] . to this end\\nwe have chosen the parameters @xmath90 , @xmath91 , and @xmath74 for the system shown in fig .\\n[ fig1 ]  ( a ) .\\nfigure [ fig3 ] ( a ) display ( dashed line ) and ( solid line ) while the corresponding phase diagram is shown in fig .\\n[ fig3 ]  ( b ) . as is apparent from the solid line in fig .\\n[ fig3 ]  ( a ) it is not possible to determine the effective surface free energy function for the all values of @xmath42 because the upper flat substrate at @xmath36 is too far away from the lower patterned substrate in order to induce all possible average anchoring orientations @xmath42 . in other words , the anchoring energy at the patterned substrate is too large to be balanced by the elastic energy for the chosen mean distance @xmath36 between the substrates ( see fig .\\n[ fig1 ]  ( b ) ) . nevertheless fig .\\n[ fig3 ]  ( b ) demonstrates that even this partial information about the effective surface free energy function can be used to calculate the phase diagram for cell widths sufficiently larger than the width at the critical point @xmath120 .      in the last subsection we have shown that with a suitable chemical and geometrical surface morphology on one of the interior surfaces of a liquid crystal cell\\n, two stable nematic director configurations can be supported .\\nthe zenithally bistable nematic devices that have been studied recently @xcite consist of a nematic liquid crystal confined between a chemically homogeneous grating surface ( see fig .\\n[ fig1 ]  ( c ) ) and a flat substrate with strong homeotropic anchoring .\\nthe profile of the asymmetric surface grating is given by @xmath121 where @xmath34 is the groove depth , @xmath66 the period , and @xmath122 is the `` blazing '' parameter describing the asymmetry of the surface profile\\n. such a grating surface has been studied by brown _\\n@xcite who found a first order transition between the han state , characterized by a low pretilt angle ( @xmath123 ) , and the h state , characterized by a high pretilt angle ( @xmath124 ) . strictly speaking\\n, the h state does not correspond to the homeotropic texture ( see fig .\\n[ fig5 ]  ( b ) below ) , but we keep the same notation as in the previous section for consistency . here\\nwe study phase transitions of a nematic liquid crystal in contact with the blazed surface in a more detail using the effective free energy method discussed in sec .\\nii  c.    in fig .\\n[ fig : blazed ]  ( a ) the minimized free energy @xmath70 ( dashed line ) and the calculated effective surface free energy @xmath71 ( solid line ) are shown for the anchoring strength @xmath125 on the grating surface , the groove depth @xmath126 , and the blazing parameter @xmath127 .\\nthe effective surface free energy is asymmetric with respect to @xmath128 because of the asymmetry of the grating surface . as a consequence\\nalso the phase diagram , plotted as a function of the anchoring angle on the upper surface @xmath40 and the distance @xmath129 is asymmetric ( fig .  [\\nfig : blazed ]  ( b ) ) .\\nhowever , the topology of the phase diagram is the same as in the case of a symmetric substrate ( see figs .\\n[ fig2 ] ( b ) , [ fig3 ] ( b ) , and for a more general discussion sec .\\niii  c below ) .\\n( c ) and eq .\\n( [ eq : blazed ] ) ) .\\nthe locally homeotropic anchoring strength on the blazed surface is @xmath130 , the groove depth is @xmath131 and the blazing parameter is @xmath127 .\\n@xmath28 is the extension of the cell in the invariant @xmath26 direction and @xmath85 is the isotropic elastic constant .\\nthe effective surface free energy ( as well as ) is periodic with the period @xmath132 but it is asymmetric with respect to @xmath133 .\\n( b ) phase diagram of the same system as a function of the anchoring angle at the upper flat substrate @xmath40 and the cell width @xmath35 with the same line code as in figs .\\n[ fig2 ] and [ fig3 ] .\\nthe triple point ( where the han@xmath78 , han@xmath79 and h phases coexist ) is at @xmath134 and @xmath135 , and the critical points ( solid circle ) are at @xmath136 , @xmath137 and @xmath138 , @xmath139\\n. for clearness , only the limits of metastability of the han@xmath79 ( 1 ) phase and the h ( 2 ) phase ( for negative @xmath40 ) are shown.,width=302 ]    ( c ) and eq .\\n( [ eq : blazed ] ) ) with local homeotropic anchoring and a flat surface with strong homeotropic anchoring ( @xmath98 ) as a function of the groove depth @xmath140 and the cell width @xmath129 .\\nthe anchoring strength on the blazed surface is @xmath130 .\\nthe lines correspond to different values of @xmath122 and denote first order transitions between homeotropic ( h ) and hybrid aligned ( han@xmath79 ) phases . for small @xmath140 , the lines extend to @xmath141 corresponding to a first order _ anchoring _ transition between planar and homeotropic phases . upon increasing\\n@xmath140 the first order transition lines end at critical points which are not shown in the figure .\\n( b ) the energy barrier at the first order transitions with the same line code as in ( a ) .\\nthe lines have been obtained from the total effective free energy ( see eq .\\n( [ eq6 ] ) ) , while the diamonds correspond to the energy barriers between the planar and homeotropic effective anchoring which follow from considering only the surface contribution @xmath44.,width=302 ]    ) ) for the hybrid aligned ( han@xmath79 ) phase in ( a ) and the homeotropic ( h ) phase in ( b ) on the lines of the first order transitions ( see fig .  [ fig4 ] ) for a nematic liquid crystal confined between the blazed surface ( see fig .  [ fig1 ]  ( c ) and eq .\\n( [ eq : blazed ] ) ) with local homeotropic anchoring and a flat surface with strong homeotropic anchoring ( @xmath98 ) .\\nthe diamonds in ( a ) and ( b ) correspond to the two minima of the effective surface energy function @xmath142 .\\nthe model parameters and the line code are the same as in fig .\\n, width=302 ]    we now concentrate on the most interesting ( from a practical point of view ) case of strong homeotropic anchoring ( @xmath86 ) at the upper homogeneous surface .\\nfigure [ fig4 ] ( a ) displays the phase diagram for a few values of the blazing parameter @xmath122 and a fixed value of the local homeotropic anchoring strength on the grating surface @xmath130 . for a fixed cell width @xmath129 , asymmetry ( @xmath143 ) leads to a decrease of the groove depth @xmath140 at which there is a first order transition between the han and the h phases , as compared to the nematic liquid crystal cell with the symmetric surface grating ( @xmath144 ) . upon increasing the groove depth\\n@xmath140 the transition line ends at a critical point ( not shown in the figure ) , while it diverges as @xmath145 .\\nthe groove depth @xmath146 corresponds to an _ anchoring _ ( or surface ) transition between low tilt and high tilt _ surface _\\nstates which are the homeotropic and planar effective anchoring states , respectively , in the case @xmath144 .\\nthe effective free energy method allows one to calculate an energy barrier @xmath147 between the two bistable states , which is _ not _\\nfeasible by the direct numerical minimization of the free energy functional .\\nthe results of our calculations are shown in fig .\\n[ fig4 ]  ( b ) .\\nthe asymmetry of the surface grating leads to a decrease of the energy barrier . with increasing groove depth @xmath140 the energy barrier decreases and eventually vanishes upon approaching the critical point .\\nthe diamonds in fig .\\n[ fig4 ]  ( b ) denote the energy barriers for the abovementioned anchoring transitions of a nematic liquid crystal in contact with a single grating surface .\\nthe energy barrier between two bistable states is an important quantity for the design of a zenithally bistable nematic device .\\ntoo small energy barrier , as compared to @xmath148 , would cause spontaneous switching between the two states because of thermal fluctuations , while enlarging the energy barrier leads to an increase of the power consumption . using the calculated values of @xmath147 ( see fig .\\n[ fig4 ]  ( b ) ) one can estimate the energy barrier in a real nematic liquid crystal cell .\\nfor instance , for a cell of area @xmath149 and of width @xmath150 , and taking the typical values @xmath151 and @xmath152 , one obtains @xmath153 for @xmath154 and @xmath155 , which seems to be an acceptable value .\\nanother important quantity in zenithally bistable nematic devices is the average director orientation at the grating surface in the two degenerate states .\\nthe average surface director in the han ( @xmath156 ) and h ( @xmath157 ) states is shown in fig .\\n[ fig5 ] for the same model parameters as in fig .\\n[ fig4 ] and for the values of @xmath140 and @xmath129 corresponding to the coexistence line .\\nthe asymmetry of the surface grating leads to a decrease of @xmath156 and an increase of @xmath158 . for a fixed value of @xmath122\\n, the difference between the two angles decreases with increasing the groove depth @xmath140 and finally vanishes upon approaching the critical point ( not shown in the figure ) .\\nhence the asymmetry of the surface grating leads to a decrease of the groove depth at which the bistability is observed , which improves optical properties @xcite , and to a decrease of the energy barrier , which lowers the power consumption of a zenithally bistable nematic device . on the other hand ,\\nalso the difference between the two bistable states decreases which impairs optical properties of such a device .\\nin section [ iiia ] we have discussed phase diagrams in the @xmath159 plane which can be described in terms of the surface free energy given by eq .  .\\nhowever , it is instructive to consider a more general situation that the surface free energy follows from a truncation of the fourier expansion given in eq .  .\\nto be able to study both symmetric and asymmetric surfaces we assume a natural generalization of eq .\\n, namely @xmath160\\\\,,\\\\end{aligned}\\\\ ] ] which reduces to eq .   in the case of a symmetric surface characterized by @xmath161 .\\nthe angle @xmath162 that minimizes @xmath163 ( see eq .  ) is a function of @xmath40 and @xmath35 .\\nthe derivative @xmath164 is the susceptibility of the system that diverges at the critical thickness @xmath165 and remains finite and positive for @xmath107 . from eq .   the conditions for the critical angle @xmath166 follow as @xmath167 implying that @xmath120 and @xmath166 depend only on the form of @xmath113 .\\nplane for the surface free energy given by eq . .\\n@xmath168 and @xmath169 denote different ( usually non - uniform ) textures , the thick lines correspond to first order transitions , and black circles mark critical points .\\nwhen @xmath11 ( defined on the unit circle @xmath170 ) has one minimum and one maximum the phase diagram can be either of type ( a ) or ( b ) .\\nwhen @xmath11 has two minima and two maxima the phase diagram is of type ( b ) unless the minima are of equal depth , in which case it is of type ( c ) .\\nnote that the lines @xmath171 are identified with each other and the phase diagram can be considered as being on a cylindrical surface.,scaledwidth=49.0% ]    the extremes of @xmath11 given by eq .\\ncan be found easily only in the case of symmetric or antisymmetric ( @xmath172 ) surface and the same concerns the position of critical point . in this work , however , we are interested rather in possible topologies of the phase diagram in the @xmath159 plane , which result from eqs . and , and not in the exact location of critical points or transition lines . to draw schematic phase diagrams we consider @xmath11 as a function defined on the unit circle @xmath170\\ndepending on the parameters @xmath116 and @xmath117 , @xmath113 has either one minimum and one maximum or two minima and two maxima .\\nthis conclusion applies also to the function @xmath173 , thus , there can be either one or two critical points in the phase diagram ( see eqs . and ) . in the limit of large @xmath35\\n, there is always a first order phase transition between two non - uniform textures corresponding to the opposite orientations of the director at @xmath21 .\\nthis is because @xmath174 is not a periodic function of @xmath175 at fixed @xmath40 . to find @xmath40 at the transition we expand @xmath11 around its deepest minimum ( denoted @xmath176 ) , which leads to the approximate free energy : @xmath177 where @xmath178 is the extrapolation length .\\nsince @xmath176 and @xmath179 are equivalent minima of @xmath11 , and both @xmath176 and @xmath40 are allowed to vary in the interval @xmath180 $ ] , the transition occurs at @xmath181 if @xmath182 or at @xmath183 if @xmath184 . with the above information we can now draw schematically the phase diagram ( see fig .  [ fig : diagram ] ) .\\nsince the vertical lines at @xmath171 are to be identified with each other the phase diagram can be considered on a cylindrical surface .\\naway from the transition lines there is a smooth evolution from one texture to another .\\nthis means that at fixed @xmath35 it is possible to transform smoothly the @xmath185 texture into the @xmath186 texture , i.e. , without crossing the transition line , even for @xmath187 .\\nwe note that in some range of parameters , the phase diagram for @xmath11 with one minimum is topologically indistinguishable from that for @xmath11 with two minima ( fig .\\n[ fig : diagram ]  ( b ) ) ; in both cases there are two critical points and a triple point .\\nif @xmath11 has two equal minima ( e.g. , at @xmath101 and @xmath188 in the case of symmetric surface ) the triple point disappears and the first order transition lines extend to @xmath189 , as shown in fig .\\n[ fig : diagram ]  ( c ) .\\nwe have studied the phase behavior of a nematic liquid crystal confined between a flat and a patterned substrate ( fig .\\n[ fig1 ] ) using the frank - oseen model [ eq .\\n( [ eq4 ] ) ] and the rapini - papoular surface free energy [ eq .\\n( [ eq5 ] ) ] . an expression for the effective free energy function of the system [ eq .\\n( [ eq6 ] ) ] was derived by determining an effective surface free energy characterizing the anchoring energy at the patterned surface [ eq .  ( [ eq8 ] ) ] . using the effective free energy function ,\\nwe have determined the phase behavior of the nematic liquid crystal confined between a flat surface with strong anchoring and a chemically patterned sinusoidal surface ( fig .\\n[ fig1 ] ( a ) ) , finding first order transitions between a homeotropic texture ( h ) and hybrid aligned nematic ( han ) textures ( figs .\\n[ fig2 ] ( b ) and [ fig3 ] ( b ) ) .\\nit is possible to have a first order phase transition even with a monostable surface characterized by a monotonic surface free energy function ( fig .\\n[ fig2 ]  ( a ) , @xmath114 $ ] ) .\\nin addition we have performed direct minimizations of the original free energy functional [ eqs .\\n( [ eq4 ] ) and ( [ eq5 ] ) ] on a two - dimensional grid and found remarkably good agreement with the phase boundaries resulting from the effective energy function analysis ( figs\\n.  [ fig2 ] ( b ) and [ fig3 ] ( b ) ) .\\nhence quantitatively reliable predictions of the phase behavior can be achieved using the effective free energy method .    using this method ,\\nwe have also studied the phase behavior ( fig .\\n[ fig : blazed ] ( b ) ) of a nematic liquid crystal confined between a chemically uniform , asymmetrically grooved substrate ( fig .\\n[ fig1 ]  ( c ) and eq .\\n( [ eq : blazed ] ) ) with locally homeotropic anchoring and a flat substrate with strong homeotropic anchoring , which is a typical setup for a zenithally bistable nematic device @xcite .\\nthe asymmetry of the grating substrate leads to a decrease of the groove depth at which a first order transition between the h and han phases occurs ( fig .\\n[ fig4 ]  ( a ) ) .\\nmoreover , we have determined the energy barrier between the two coexisting states ( fig .\\n[ fig4 ]  ( b ) ) .\\nour calculations show that the energy barrier decreases with increasing the asymmetry of the grating surface but it is well above @xmath190 for a typical nematic liquid crystal cell .\\nin addition , the average director orientation at the grating surface in two bistable states has been calculated ( fig .\\n[ fig5 ] ) .\\nthe difference between the two bistable states vanishes with increasing substrate asymmetry , which has a negative effect on the optical properties of a zenithally bistable nematic device .\\nwe have also generalized the model of the effective surface free energy considered by parry - jones _\\n@xcite to the case of asymmetric structured substrates and obtained three possible types of the phase diagram in the plane spanned by the orientation of the director at the homogeneous surface and the thickness of the nematic cell .\\nthe asymmetry of the substrate causes only a shift of transition lines and critical points , compared to the symmetric case , but does not change the topology of the phase diagram .\\nfinally , we have verified that this model allows one to reproduce qualitatively the phase diagram of a nematic liquid crystal confined between a homogeneous planar substrate and an asymmetrically grooved surface ( fig .\\n[ fig : blazed ]  ( b ) and fig .\\n[ fig : diagram ]  ( b ) ) .\""
            ]
          },
          "execution_count": 10,
          "metadata": {},
          "output_type": "execute_result"
        }
      ],
      "source": [
        "texts[0]  # example"
      ]
    },
    {
      "cell_type": "code",
      "execution_count": null,
      "metadata": {
        "colab": {
          "base_uri": "https://localhost:8080/"
        },
        "executionInfo": {
          "elapsed": 8,
          "status": "ok",
          "timestamp": 1710848918909,
          "user": {
            "displayName": "Ibrahim Alabdulmohsin",
            "userId": "15347871053891839154"
          },
          "user_tz": -60
        },
        "id": "0g3moPA1ymUh",
        "outputId": "8b348255-bbe5-4567-a696-8b03968e8082"
      },
      "outputs": [
        {
          "name": "stderr",
          "output_type": "stream",
          "text": [
            "Token indices sequence length is longer than the specified maximum sequence length for this model (9758 \u003e 1024). Running this sequence through the model will result in indexing errors\n"
          ]
        },
        {
          "data": {
            "text/plain": [
              "tensor([[1169, 1393,  287,  ..., 1267, 1267,  764]])"
            ]
          },
          "execution_count": 11,
          "metadata": {},
          "output_type": "execute_result"
        }
      ],
      "source": [
        "text = texts[0]\n",
        "tokens = tokenizer.encode(text, return_tensors='pt')\n",
        "\n",
        "tokens"
      ]
    },
    {
      "cell_type": "markdown",
      "metadata": {
        "id": "qVFQ3vjghS9b"
      },
      "source": [
        "# Tokenize"
      ]
    },
    {
      "cell_type": "code",
      "execution_count": null,
      "metadata": {
        "colab": {
          "base_uri": "https://localhost:8080/",
          "referenced_widgets": [
            "1af782e55c8847b1a89880be8a2ea2ae",
            "c3f60cfdd1684c3b95a895713b7e5fb2",
            "7c4a3a0362ab49e295aaf91dae8d7fe1",
            "a99e198dace74a3ba4fd1d0289479dea",
            "51a4b80c6c3b47578ee4602180c625f5",
            "c5cc4e8393d7483fad6f6da69d912814",
            "9722de1d5c734f6e9959099bd4fa18d8",
            "d36ff3326fb844f0b596c6cc30307836",
            "cd68ab0a94784c018b8b17e07aae8266",
            "531d18dbaf9a454699786856b2e840b6",
            "2894388db9074cb8a649110d4328f90d"
          ]
        },
        "executionInfo": {
          "elapsed": 5146,
          "status": "ok",
          "timestamp": 1710848924049,
          "user": {
            "displayName": "Ibrahim Alabdulmohsin",
            "userId": "15347871053891839154"
          },
          "user_tz": -60
        },
        "id": "ymqeU3WF4jZ6",
        "outputId": "1119cae1-e81c-4cfe-9979-bcb5eb96a8e5"
      },
      "outputs": [
        {
          "data": {
            "application/vnd.jupyter.widget-view+json": {
              "model_id": "1af782e55c8847b1a89880be8a2ea2ae",
              "version_major": 2,
              "version_minor": 0
            },
            "text/plain": [
              "  0%|          | 0/100 [00:00\u003c?, ?it/s]"
            ]
          },
          "metadata": {},
          "output_type": "display_data"
        }
      ],
      "source": [
        "tokens = [tokenizer.encode(texts[i], return_tensors='pt') for i in tqdm.notebook.tqdm(range(len(texts)))]"
      ]
    },
    {
      "cell_type": "code",
      "execution_count": null,
      "metadata": {
        "colab": {
          "base_uri": "https://localhost:8080/"
        },
        "executionInfo": {
          "elapsed": 3,
          "status": "ok",
          "timestamp": 1710848924049,
          "user": {
            "displayName": "Ibrahim Alabdulmohsin",
            "userId": "15347871053891839154"
          },
          "user_tz": -60
        },
        "id": "CWfElUtwsx_z",
        "outputId": "912e379e-46c6-4735-89a6-bb9d9cc6c1ee"
      },
      "outputs": [
        {
          "data": {
            "text/plain": [
              "tensor([[1169, 1393,  287,  ..., 1267, 1267,  764]])"
            ]
          },
          "execution_count": 13,
          "metadata": {},
          "output_type": "execute_result"
        }
      ],
      "source": [
        "tokens[0]"
      ]
    },
    {
      "cell_type": "code",
      "execution_count": null,
      "metadata": {
        "colab": {
          "base_uri": "https://localhost:8080/"
        },
        "executionInfo": {
          "elapsed": 350,
          "status": "ok",
          "timestamp": 1710848924397,
          "user": {
            "displayName": "Ibrahim Alabdulmohsin",
            "userId": "15347871053891839154"
          },
          "user_tz": -60
        },
        "id": "qkmA4xsujdlh",
        "outputId": "33f842be-5525-4b29-ba2f-a6c0731d6bbf"
      },
      "outputs": [
        {
          "data": {
            "image/png": "[encoded data removed]",
            "text/plain": [
              "\u003cFigure size 640x480 with 1 Axes\u003e"
            ]
          },
          "metadata": {},
          "output_type": "display_data"
        }
      ],
      "source": [
        "# distribution of document lengths\n",
        "_ = plt.hist([tokens[i].shape[1] for i in range(len(tokens))], 10)"
      ]
    },
    {
      "cell_type": "markdown",
      "metadata": {
        "id": "5elV_SyNkGxI"
      },
      "source": [
        "We only use sufficiently long documents (e.g. \u003e 2K tokens). Later, we drop the leading 128 tokens (warmup) and use only the first 1K tokens (because the second half can contain links, references, etc, not related to the article itself)."
      ]
    },
    {
      "cell_type": "code",
      "execution_count": null,
      "metadata": {
        "colab": {
          "base_uri": "https://localhost:8080/"
        },
        "executionInfo": {
          "elapsed": 6,
          "status": "ok",
          "timestamp": 1710848924397,
          "user": {
            "displayName": "Ibrahim Alabdulmohsin",
            "userId": "15347871053891839154"
          },
          "user_tz": -60
        },
        "id": "yTHjO7IRkXzF",
        "outputId": "7f4f01fb-87a3-45bb-eb02-1f237303f3c1"
      },
      "outputs": [
        {
          "name": "stdout",
          "output_type": "stream",
          "text": [
            "torch.Size([1024])\n"
          ]
        }
      ],
      "source": [
        "filtered_tokens = [tokens[i][0, 0: MAX_LENGTH] \\\n",
        "                   for i in range(len(tokens)) \\\n",
        "                   if tokens[i].shape[1] \u003e 2048]\n",
        "\n",
        "print(len(filtered_tokens), filtered_tokens[0].shape)"
      ]
    },
    {
      "cell_type": "code",
      "execution_count": null,
      "metadata": {
        "colab": {
          "base_uri": "https://localhost:8080/"
        },
        "executionInfo": {
          "elapsed": 5,
          "status": "ok",
          "timestamp": 1710848924397,
          "user": {
            "displayName": "Ibrahim Alabdulmohsin",
            "userId": "15347871053891839154"
          },
          "user_tz": -60
        },
        "id": "Kp0WQGfX91mD",
        "outputId": "1e9b30c7-b5b0-47ad-8787-3fa1829c0732"
      },
      "outputs": [
        {
          "data": {
            "application/vnd.google.colaboratory.intrinsic+json": {
              "type": "string"
            },
            "text/plain": [
              "'the interest in anchoring phenomena and phenomena in confined nematic liquid crystals has largely been driven by their potential use in liquid crystal display devices.\\nthe twisted nematic liquid crystal cell serves as an example.\\nit consists of a nematic liquid crystal confined between two parallel walls, both providing homogeneous planar anchoring but with mutually perpendicular easy directions. in this case\\nthe orientation of the nematic director is tuned by the application of an external electric or magnetic field.\\na precise control of the surface alignment extending over large areas is decisive for the functioning of such devices.\\nmost studies have focused on nematic liquid crystals in contact with laterally uniform substrates. on the other hand substrate inhomogeneities\\narise rather naturally as a result of surface treatments such as rubbing.\\nthus the nematic texture near the surface is in fact non - uniform.\\nthis non - uniformity, however, is smeared out beyond a decay length proportional to the periodicity of the surface pattern.\\nvery often the thickness of the non - uniform surface layer is considerably smaller than both the wavelength of visible light and the thickness of the nematic cell, i.e., the distance between the two confining parallel walls\\n. hence optical properties of the nematic liquid crystal confined between such substrates correspond to those resulting from effective, uniform substrates.\\nmore recent developments have demonstrated that surfaces patterned with a large periodicity of some micrometers are of considerable interest from a technological point of view ( see, e.g., ref.\\n@xcite and references therein ).\\na new generation of electro - optical devices relies on nematic liquid crystals with patterned orientation of the nematic director over small areas which can be achieved by chemically patterning the confining surfaces.\\nfor example, to produce flat - panel displays with wide viewing angles one can use pixels that are divided into sub - pixels, where each sub - pixel is defined by a different orientation of the nematic director, which is induced by the surface structure and subsequently tuned by the electric field.\\nin addition to the technological relevance, nematic liquid crystals in contact with non - uniform substrates provide the opportunity to study basic phenomena such as effective elastic forces between the substrates and phase transitions between various competing nematic textures ( see, e.g., ref.\\n@xcite and references therein ).    whereas the influence of homogeneous confining substrates on nematic liquid crystals is now well understood,\\nthe phase behavior of nematic liquid crystals in contact with chemically or geometrically patterned substrates is still debated.\\none might suppose that theoretical calculations based on continuum theories should resolve the properties of nematic liquid crystals in contact with patterned substrates @xcite.\\nhowever, such calculations are numerically demanding because two- or three - dimensional grids have to be used because of the broken symmetry due to the surface pattern.\\nmoreover, it is very challenging to determine metastable states and energy barriers between them which are important for the understanding of bistable nematic devices @xcite. in the present paper\\nwe adopt a different strategy which takes the advantage of the finite decay length characterizing the influence of the surface pattern on the nematic liquid crystal in the direction perpendicular to the substrate.\\nwe determine first an anchoring energy function and an average surface director orientation of the patterned substrate and obtain an effective free energy for the nematic liquid crystal cell under consideration.\\nwe find remarkably good agreement between the phase diagrams of various systems calculated using this effective free energy function on the one hand and the original free energy functional on the other hand.\\nthe continuum theory for liquid crystals has its origin dating back to at least the work of oseen @xcite and zocher @xcite.\\nthis early version of the continuum theory for nematic liquid crystals played an important role for the further development of the static theory and its more direct formulation by frank @xcite.\\nthe frank theory is formulated in terms of the so - called nematic director @xmath0, @xmath1, and its possible spatial distortions.\\nthe nematic director describes the direction of the locally averaged molecular alignment in liquid crystals. in a nematic liquid crystal\\nthe centers of mass of the liquid crystal molecules do not exhibit long - ranged order.\\nthe molecules can translate freely while being aligned, on average, parallel to one another and to the nematic director.\\nit is known that if an initially uniform nematic liquid crystal is distorted by external forces, it relaxes back to the uniform state after the disturbing influence is switched off, signaling that the uniform configuration represents a thermodynamically stable state.\\ntherefore it is assumed that there is a cost in free energy associated with elastic distortions of the nematic director of the form @xmath2\u0026=\u0026\\\\frac{1}{2}\\\\int_v\\nd^3 r\\\\,\\\\left[k_{11}\\\\left(\\\\nabla\\\\cdot\\\\'"
            ]
          },
          "execution_count": 16,
          "metadata": {},
          "output_type": "execute_result"
        }
      ],
      "source": [
        "tokenizer.decode(filtered_tokens[0])  # to recover the original text"
      ]
    },
    {
      "cell_type": "markdown",
      "metadata": {
        "id": "R9EgfH1dlkF6"
      },
      "source": [
        "# Score\n",
        "Next, we score all the tokens and convert scores to bits, i.e. we calculate: $-\\log p(tokens[i]\\;|\\; tokens[0:i])$."
      ]
    },
    {
      "cell_type": "code",
      "execution_count": null,
      "metadata": {
        "colab": {
          "base_uri": "https://localhost:8080/",
          "height": 49,
          "referenced_widgets": [
            "9df39a1127104a0ab54979e1b22ba574",
            "44bd1b7a6d1442db8ac3d82e735e156e",
            "43f18d4329ab457094c37e8bd4097093",
            "91eb605a3f8e49999070b32e5d3e2bf8",
            "69f3d1b7d5ec4d1ca1f9e5d1602141ce",
            "7dd2cebe1aeb4133bc3490ff7dffb174",
            "7e23c334cd324a61a7bc41f308023e86",
            "80947ac1eb97454b9f357bb9ee9870f2",
            "557b1bc7aa6e47a197ba0ccc321aa456",
            "a4141381fe374a78a53c511233dbd83c",
            "de38a562560649b2b36778dac5c55665"
          ]
        },
        "executionInfo": {
          "elapsed": 30500,
          "status": "ok",
          "timestamp": 1710849096888,
          "user": {
            "displayName": "Ibrahim Alabdulmohsin",
            "userId": "15347871053891839154"
          },
          "user_tz": -60
        },
        "id": "RDMYdjEK9rcA",
        "outputId": "41e41e44-da24-4927-fee6-dee0c2bd3bf9"
      },
      "outputs": [
        {
          "data": {
            "application/vnd.jupyter.widget-view+json": {
              "model_id": "9df39a1127104a0ab54979e1b22ba574",
              "version_major": 2,
              "version_minor": 0
            },
            "text/plain": [
              "  0%|          | 0/92 [00:00\u003c?, ?it/s]"
            ]
          },
          "metadata": {},
          "output_type": "display_data"
        }
      ],
      "source": [
        "all_bits = []\n",
        "for i in tqdm.notebook.tqdm(range(len(filtered_tokens))):\n",
        "  ts = filtered_tokens[i].numpy()\n",
        "  with torch.no_grad():\n",
        "    logits = model(torch.tensor(ts)[None].to(device)).logits[0].cpu().numpy()\n",
        "    # convert logits to probability scores over the vocabulary\n",
        "    p = jax.nn.log_softmax(logits)\n",
        "    # convert to bits per token\n",
        "    indices = jnp.array(list(zip(range(len(ts)), ts))).T\n",
        "    bits = -p[tuple(indices)]\n",
        "\n",
        "    all_bits.append(bits.tolist()[128:]) # we drop the first 128 tokens (warmpu)"
      ]
    },
    {
      "cell_type": "code",
      "execution_count": null,
      "metadata": {
        "colab": {
          "base_uri": "https://localhost:8080/"
        },
        "executionInfo": {
          "elapsed": 16,
          "status": "ok",
          "timestamp": 1710849096888,
          "user": {
            "displayName": "Ibrahim Alabdulmohsin",
            "userId": "15347871053891839154"
          },
          "user_tz": -60
        },
        "id": "W0zSUjzRKhwN",
        "outputId": "86e0f60e-d92a-40f6-86c5-76408823ed25"
      },
      "outputs": [
        {
          "data": {
            "text/plain": [
              "(92, 896)"
            ]
          },
          "execution_count": 21,
          "metadata": {},
          "output_type": "execute_result"
        }
      ],
      "source": [
        "all_bits = np.array(all_bits)\n",
        "all_bits.shape"
      ]
    },
    {
      "cell_type": "markdown",
      "metadata": {
        "id": "oC6SsUZoIrPI"
      },
      "source": [
        "# Fractal Analysis"
      ]
    },
    {
      "cell_type": "markdown",
      "metadata": {
        "id": "rSFz1BIskZVX"
      },
      "source": [
        "## Increment/integral processes"
      ]
    },
    {
      "cell_type": "markdown",
      "metadata": {
        "id": "87v5TiIvhRE9"
      },
      "source": [
        "First, let's see how well the model performs. The mean number of bits is the average log-loss."
      ]
    },
    {
      "cell_type": "code",
      "execution_count": null,
      "metadata": {
        "colab": {
          "base_uri": "https://localhost:8080/"
        },
        "executionInfo": {
          "elapsed": 209,
          "status": "ok",
          "timestamp": 1710849101247,
          "user": {
            "displayName": "Ibrahim Alabdulmohsin",
            "userId": "15347871053891839154"
          },
          "user_tz": -60
        },
        "id": "dgeMVcpiIzk8",
        "outputId": "fc457e7c-3ead-4476-94d8-389676cbf71f"
      },
      "outputs": [
        {
          "data": {
            "text/plain": [
              "(9.206183209857768, 3.177083467097998)"
            ]
          },
          "execution_count": 22,
          "metadata": {},
          "output_type": "execute_result"
        }
      ],
      "source": [
        "bits_mean = np.mean(all_bits)\n",
        "bits_std = np.std(all_bits)\n",
        "bits_mean, bits_std"
      ]
    },
    {
      "cell_type": "markdown",
      "metadata": {
        "id": "HcRKCyEihrJ8"
      },
      "source": [
        "Now, form the increment $x$ and integral $X$ processes. $x$ is basically the sequence of bits after normalization, while $X$ is the integral of $x$."
      ]
    },
    {
      "cell_type": "code",
      "execution_count": null,
      "metadata": {
        "colab": {
          "base_uri": "https://localhost:8080/",
          "height": 67,
          "referenced_widgets": [
            "028dff309f5a4b139fd9aa59099f3f07",
            "9d26b7802d2844438d1cb42f16ae7a60",
            "9aee3ef29723411f8dcb95df302ab3dd",
            "45e1fb17c84c45579f3c7a46fca2dc9d",
            "09f4f3b75c894f918710b87538a1017e",
            "33092e38d28c4a47b1971a5378256301",
            "dab86858db1345df875702a9e348a93e",
            "178850dbf3734e819d27c4327bcd4bc6",
            "0dbbe5bf04ca4a83af955f3398b3a9bf",
            "a443e87bf0cd4671a936a7a7524357e0",
            "52cde2a7bd474f0a845fe967e9e71064"
          ]
        },
        "executionInfo": {
          "elapsed": 215,
          "status": "ok",
          "timestamp": 1710849103709,
          "user": {
            "displayName": "Ibrahim Alabdulmohsin",
            "userId": "15347871053891839154"
          },
          "user_tz": -60
        },
        "id": "gbDzF8oeh0m5",
        "outputId": "ba45542f-7a2f-4a8f-aa71-ba0dd90c4f13"
      },
      "outputs": [
        {
          "data": {
            "application/vnd.jupyter.widget-view+json": {
              "model_id": "028dff309f5a4b139fd9aa59099f3f07",
              "version_major": 2,
              "version_minor": 0
            },
            "text/plain": [
              "  0%|          | 0/92 [00:00\u003c?, ?it/s]"
            ]
          },
          "metadata": {},
          "output_type": "display_data"
        },
        {
          "data": {
            "text/plain": [
              "((92, 896), (92, 896))"
            ]
          },
          "execution_count": 23,
          "metadata": {},
          "output_type": "execute_result"
        }
      ],
      "source": [
        "x = []\n",
        "X = []\n",
        "\n",
        "for k in tqdm.notebook.tqdm(range(len(all_bits))):\n",
        "  mu = np.mean(all_bits[k])\n",
        "  sigma = np.std(all_bits[k])\n",
        "  x.append((all_bits[k] - mu) / sigma)\n",
        "  X.append(np.cumsum(x[-1]))\n",
        "\n",
        "x = np.array(x)\n",
        "X = np.array(X)\n",
        "x.shape, X.shape"
      ]
    },
    {
      "cell_type": "markdown",
      "metadata": {
        "id": "dSCgUhteipHr"
      },
      "source": [
        "Plot the integral process to see how self-similar it is."
      ]
    },
    {
      "cell_type": "code",
      "execution_count": null,
      "metadata": {
        "colab": {
          "base_uri": "https://localhost:8080/",
          "height": 448
        },
        "executionInfo": {
          "elapsed": 359,
          "status": "ok",
          "timestamp": 1710849106274,
          "user": {
            "displayName": "Ibrahim Alabdulmohsin",
            "userId": "15347871053891839154"
          },
          "user_tz": -60
        },
        "id": "GOwOGjw4iWsN",
        "outputId": "ebc189e9-8f6f-4121-c185-3f9ce2a70d11"
      },
      "outputs": [
        {
          "data": {
            "text/plain": [
              "[\u003cmatplotlib.lines.Line2D at 0x7d1fb1a4fb50\u003e]"
            ]
          },
          "execution_count": 24,
          "metadata": {},
          "output_type": "execute_result"
        },
        {
          "data": {
            "image/png": "[encoded data removed]",
            "text/plain": [
              "\u003cFigure size 640x480 with 1 Axes\u003e"
            ]
          },
          "metadata": {},
          "output_type": "display_data"
        }
      ],
      "source": [
        "plt.plot(X[0])"
      ]
    },
    {
      "cell_type": "markdown",
      "metadata": {
        "id": "pc8Y2VfRinHZ"
      },
      "source": [
        "## Self-similarity exponent\n",
        "Note below that we have a large variance in estimating the self-similarity exponent. This is because: (1) we only use 100 documents (we used 1K in the paper) and (2) the scale level goes up to 300 only (in the paper we used \u003e500). So, if you see a large variance, consider increasing the number of documents and increasing the granularity levels."
      ]
    },
    {
      "cell_type": "code",
      "execution_count": null,
      "metadata": {
        "id": "jydzjFqHS_Oo"
      },
      "outputs": [],
      "source": [
        "def get_self_sim_exponent(X,\n",
        "                          scales=DEFAULT_SCALES,\n",
        "                          samples_per_doc=DEFAULT_SAMPLES_PER_DOC,\n",
        "                          eps=DEFAULT_EPS):\n",
        "  \"\"\"Calculate the self-similarity exponent.\n",
        "\n",
        "  Args:\n",
        "    X: integral process, 1D or 2D array.\n",
        "    scales: granuality levels. Choose this carefully.\n",
        "      If it is too large, you will have very few measurements.\n",
        "      If it is too small, your estimate of the power law relation will be\n",
        "      unreliable.\n",
        "    samples_per_doc: number of samples per document. Ideally, this should be\n",
        "      small and the number of documents should be large.\n",
        "    eps: used for calculating peak probability scores. Choose this carefully.\n",
        "      If eps is too small, probability estimates will be unreliable.\n",
        "      If eps is too large, it doesn't reflect peak probabiliy at the origin.\n",
        "\n",
        "  Returns:\n",
        "    S: self-similarity exponent.\n",
        "    p0: peak probability estimates.\n",
        "  \"\"\"\n",
        "  if X.ndim == 1:\n",
        "    X = X.reshape((1, -1))\n",
        "  elif X.ndim \u003e 2:\n",
        "    raise ValueError('X.ndim must be 1 or 2.')\n",
        "\n",
        "  p0 = []\n",
        "  for n in scales:\n",
        "    all = []\n",
        "    for i in (range(len(X))):\n",
        "      for _ in range(samples_per_doc):\n",
        "        offset = np.random.randint(0, len(X[i]) - n)\n",
        "        all.append(X[i][offset + n] - X[i][offset])\n",
        "    all = np.array(all)\n",
        "    p0.append(np.mean(np.abs(all) \u003c eps))\n",
        "\n",
        "  # estimate Holder exponent\n",
        "  return -power_law_fit(scales, p0)[1], p0"
      ]
    },
    {
      "cell_type": "code",
      "execution_count": null,
      "metadata": {
        "colab": {
          "base_uri": "https://localhost:8080/",
          "height": 67,
          "referenced_widgets": [
            "ddfc1eb07e8a48ca90c368542d1abf67",
            "58b621423b4044588d6cc37f97fc6ad7",
            "a400deb5d6ce4baaa68ea60364d42722",
            "4e975c814b964aaba3d6c3790e55f3e4",
            "4c70eee61b524b34a83036e7a8dead2f",
            "91c8834e865b4999a4ef7ae7c9b934ad",
            "812a4b30648e4a229d5787b56bca20b5",
            "64c509e1679e414aaf549469145bb25f",
            "cb35a23a2ee543d8bc349788fe0f6e5c",
            "08b82e3df5c44aff8662cb2c9fde849b",
            "074f426f3ce1411288eb8d03b433e9d2"
          ]
        },
        "executionInfo": {
          "elapsed": 2930,
          "status": "ok",
          "timestamp": 1710849113710,
          "user": {
            "displayName": "Ibrahim Alabdulmohsin",
            "userId": "15347871053891839154"
          },
          "user_tz": -60
        },
        "id": "sOE-Dhjvkjbi",
        "outputId": "c0f2a65e-2bbb-4e02-d8e4-47c44f511739"
      },
      "outputs": [
        {
          "data": {
            "application/vnd.jupyter.widget-view+json": {
              "model_id": "ddfc1eb07e8a48ca90c368542d1abf67",
              "version_major": 2,
              "version_minor": 0
            },
            "text/plain": [
              "  0%|          | 0/10 [00:00\u003c?, ?it/s]"
            ]
          },
          "metadata": {},
          "output_type": "display_data"
        },
        {
          "name": "stdout",
          "output_type": "stream",
          "text": [
            "0.5761004041394083 0.15908063049317464\n"
          ]
        }
      ],
      "source": [
        "# use bootstrapping to estimate uncertainty\n",
        "np.random.seed(2024)\n",
        "self_sim_exponent = []\n",
        "for _ in tqdm.notebook.tqdm(range(10)):\n",
        "  articles = np.random.choice(np.arange(len(x)), len(x))  # with replacement\n",
        "  self_sim_exponent.append(get_self_sim_exponent(X[articles])[0])\n",
        "\n",
        "print(np.mean(self_sim_exponent), np.std(self_sim_exponent))"
      ]
    },
    {
      "cell_type": "code",
      "execution_count": null,
      "metadata": {
        "colab": {
          "base_uri": "https://localhost:8080/",
          "height": 428
        },
        "executionInfo": {
          "elapsed": 1125,
          "status": "ok",
          "timestamp": 1710849116858,
          "user": {
            "displayName": "Ibrahim Alabdulmohsin",
            "userId": "15347871053891839154"
          },
          "user_tz": -60
        },
        "id": "23vr2zJzXFfG",
        "outputId": "01d26830-396a-46d4-fd2a-e04972ba11ec"
      },
      "outputs": [
        {
          "data": {
            "image/png": "[encoded data removed]",
            "text/plain": [
              "\u003cFigure size 400x400 with 1 Axes\u003e"
            ]
          },
          "metadata": {},
          "output_type": "display_data"
        }
      ],
      "source": [
        "# see the quality of fit\n",
        "_, y = get_self_sim_exponent(X)\n",
        "fig = plot_power_law(DEFAULT_SCALES,  # because we use default granularity levels\n",
        "                     y,\n",
        "                     yscale='log',\n",
        "                     xlabel='granularity level',\n",
        "                     ylabel='peak probability', )"
      ]
    },
    {
      "cell_type": "markdown",
      "metadata": {
        "id": "unwAYiZKPnJG"
      },
      "source": [
        "## Hurst exponent"
      ]
    },
    {
      "cell_type": "code",
      "execution_count": null,
      "metadata": {
        "id": "LyenuO9bTDIh"
      },
      "outputs": [],
      "source": [
        "def get_hurst_exponent(x,\n",
        "                       scales=DEFAULT_SCALES,\n",
        "                       samples_per_doc=DEFAULT_SAMPLES_PER_DOC):\n",
        "  \"\"\"Calculate the Hurst exponent.\n",
        "\n",
        "  Args:\n",
        "    x: increment process, 1D or 2D array.\n",
        "    scales: granuality levels. Choose this carefully.\n",
        "      If it is too large, you will have very few measurements.\n",
        "      If it is too small, your estimate of the power law relation will be\n",
        "      unreliable.\n",
        "    samples_per_doc: number of samples per document. Ideally, this should be\n",
        "      small and the number of documents should be large.\n",
        "\n",
        "  Returns:\n",
        "    H: Hurst exponent.\n",
        "    sr: rescaled range estimates.\n",
        "  \"\"\"\n",
        "  if x.ndim == 1:\n",
        "    x = x.reshape((1, -1))\n",
        "  elif x.ndim \u003e 2:\n",
        "    raise ValueError('x.ndim must be 1 or 2.')\n",
        "\n",
        "  # calculate the rescaled range\n",
        "  sr = []\n",
        "  for n in scales:\n",
        "    som = 0\n",
        "    count = 0\n",
        "    for i in range(len(x)):  # to get a reliable etimate, many documents are needed\n",
        "      for _ in range(samples_per_doc):\n",
        "        offset = np.random.randint(0, len(x[i]) - n)\n",
        "        y = x[i, offset: n + offset]\n",
        "        y = y - np.mean(y)\n",
        "        Y = np.cumsum(y)\n",
        "        R = max(Y) - min(Y)\n",
        "        S = np.std(y)\n",
        "        som += R / S\n",
        "        count += 1\n",
        "    sr.append(som / count)\n",
        "\n",
        "  # estimate Hurst exponent\n",
        "  return power_law_fit(scales, sr)[1], sr"
      ]
    },
    {
      "cell_type": "code",
      "execution_count": null,
      "metadata": {
        "colab": {
          "base_uri": "https://localhost:8080/",
          "height": 67,
          "referenced_widgets": [
            "8236cd8a80804aaa9ec0a5a9941320c9",
            "700b1af453ec4a82bd63ea66b106a1c8",
            "927aac02f3b34cf5a9bf1995fb0b21a2",
            "d99371d2d2ff4aeebda74d19d7bde614",
            "9c9ffc6d48cc4e8fb7daafc0a57ae6ed",
            "8ce9d7be77ea46d7b3259db1e302999a",
            "9e353e1c0cc04e208effd77131d43659",
            "8019a122025e432a986cd7f39ff4a0f2",
            "83190fee4e584fb8b7b67644774cf5d3",
            "613c487b4fb54b7988b7291fd0edd12e",
            "a35287c2d01c450ba69074bb5d22ac00"
          ]
        },
        "executionInfo": {
          "elapsed": 44470,
          "status": "ok",
          "timestamp": 1710849165981,
          "user": {
            "displayName": "Ibrahim Alabdulmohsin",
            "userId": "15347871053891839154"
          },
          "user_tz": -60
        },
        "id": "G1bg_WHTPqGu",
        "outputId": "e3dd247f-4134-4103-c278-766d9da4064a"
      },
      "outputs": [
        {
          "data": {
            "application/vnd.jupyter.widget-view+json": {
              "model_id": "8236cd8a80804aaa9ec0a5a9941320c9",
              "version_major": 2,
              "version_minor": 0
            },
            "text/plain": [
              "  0%|          | 0/10 [00:00\u003c?, ?it/s]"
            ]
          },
          "metadata": {},
          "output_type": "display_data"
        },
        {
          "name": "stdout",
          "output_type": "stream",
          "text": [
            "0.6075745642675432 0.006985823794845016\n"
          ]
        }
      ],
      "source": [
        "hurst_exponent = []\n",
        "for _ in tqdm.notebook.tqdm(range(10)):\n",
        "  articles = np.random.choice(np.arange(len(x)), len(x))  # with replacement\n",
        "  hurst_exponent.append(get_hurst_exponent(x[articles])[0])\n",
        "\n",
        "print(np.mean(hurst_exponent), np.std(hurst_exponent))"
      ]
    },
    {
      "cell_type": "code",
      "execution_count": null,
      "metadata": {
        "colab": {
          "base_uri": "https://localhost:8080/",
          "height": 428
        },
        "executionInfo": {
          "elapsed": 5296,
          "status": "ok",
          "timestamp": 1710849171276,
          "user": {
            "displayName": "Ibrahim Alabdulmohsin",
            "userId": "15347871053891839154"
          },
          "user_tz": -60
        },
        "id": "y2QqP6kzZMtw",
        "outputId": "cbbe89e2-0eec-4f02-86a9-ad52f8e64070"
      },
      "outputs": [
        {
          "data": {
            "image/png": "[encoded data removed]",
            "text/plain": [
              "\u003cFigure size 400x400 with 1 Axes\u003e"
            ]
          },
          "metadata": {},
          "output_type": "display_data"
        }
      ],
      "source": [
        "# see the quality of fit\n",
        "_, y = get_hurst_exponent(X)\n",
        "fig = plot_power_law(DEFAULT_SCALES,  # because we use default granularity levels\n",
        "                     y,\n",
        "                     yscale='log',\n",
        "                     xlabel='n',\n",
        "                     ylabel='R(n) / S(n)')"
      ]
    },
    {
      "cell_type": "markdown",
      "metadata": {
        "id": "1_UVly4WPsPa"
      },
      "source": [
        "## Joseph exponent"
      ]
    },
    {
      "cell_type": "code",
      "execution_count": null,
      "metadata": {
        "id": "fV124YGATG0Z"
      },
      "outputs": [],
      "source": [
        "def get_joseph_exponent(x,\n",
        "                        scales=DEFAULT_SCALES,\n",
        "                        samples_per_doc=DEFAULT_SAMPLES_PER_DOC):\n",
        "  \"\"\"Calculate the Joseph exponent.\n",
        "\n",
        "  Args:\n",
        "    x: increment process, 1D or 2D array.\n",
        "    scales: granuality levels. Choose this carefully.\n",
        "      If it is too large, you will have very few measurements.\n",
        "      If it is too small, your estimate of the power law relation will be\n",
        "      unreliable.\n",
        "    samples_per_doc: number of samples per document. Ideally, this should be\n",
        "      small and the number of documents should be large.\n",
        "\n",
        "  Returns:\n",
        "    J: Joseph exponent.\n",
        "    sigmas: standard deviations estimate.\n",
        "  \"\"\"\n",
        "  if x.ndim == 1:\n",
        "    x = x.reshape((1, -1))\n",
        "  elif x.ndim \u003e 2:\n",
        "    raise ValueError('x.ndim must be 1 or 2.')\n",
        "\n",
        "  sigmas = []\n",
        "  v = []\n",
        "  for n in scales:\n",
        "    for i in range(len(x)):\n",
        "      for _ in range(samples_per_doc):\n",
        "        offset = np.random.randint(0, len(x[i]) - n)\n",
        "        v.extend([X[i][offset + n] - X[i][offset]])\n",
        "    sigmas.append(np.std(v))\n",
        "\n",
        "  # estimate Joseph exponent\n",
        "  return power_law_fit(scales, sigmas)[1], sigmas"
      ]
    },
    {
      "cell_type": "code",
      "execution_count": null,
      "metadata": {
        "colab": {
          "base_uri": "https://localhost:8080/",
          "height": 67,
          "referenced_widgets": [
            "e1d63f9711be43f4bd459853afd83504",
            "d32335fd8bca4360802503554e7ff484",
            "bf213b1de233425482019f18ff20685e",
            "14d0fc98d2da49a1975bbcd5847c0843",
            "595ecea9ef754cbf8361a1f0937f027d",
            "7e065a544a434b259052367db726ea6f",
            "4f6b21d50549427ca3bb19a94ef7a4be",
            "c6b1f7a0dfec4ed1a7ad5a4a49d711ce",
            "7209cada697947678979cb4f3389f2f2",
            "5c274c332b144b70a612d6c818ec6a90",
            "7d6ddbae93da412894845548dd8fc5ce"
          ]
        },
        "executionInfo": {
          "elapsed": 2475,
          "status": "ok",
          "timestamp": 1710849173747,
          "user": {
            "displayName": "Ibrahim Alabdulmohsin",
            "userId": "15347871053891839154"
          },
          "user_tz": -60
        },
        "id": "QpGZGA8fPuxf",
        "outputId": "5f7a9104-89ba-448c-d054-cf7b9377e752"
      },
      "outputs": [
        {
          "data": {
            "application/vnd.jupyter.widget-view+json": {
              "model_id": "e1d63f9711be43f4bd459853afd83504",
              "version_major": 2,
              "version_minor": 0
            },
            "text/plain": [
              "  0%|          | 0/10 [00:00\u003c?, ?it/s]"
            ]
          },
          "metadata": {},
          "output_type": "display_data"
        },
        {
          "name": "stdout",
          "output_type": "stream",
          "text": [
            "0.35772080370919374 0.002647717654797778\n"
          ]
        }
      ],
      "source": [
        "joseph_exponent = []\n",
        "for _ in tqdm.notebook.tqdm(range(10)):\n",
        "  articles = np.random.choice(np.arange(len(x)), len(x))  # with replacement\n",
        "  joseph_exponent.append(get_joseph_exponent(x)[0])\n",
        "\n",
        "print(np.mean(joseph_exponent), np.std(joseph_exponent))"
      ]
    },
    {
      "cell_type": "code",
      "execution_count": null,
      "metadata": {
        "colab": {
          "base_uri": "https://localhost:8080/",
          "height": 428
        },
        "executionInfo": {
          "elapsed": 906,
          "status": "ok",
          "timestamp": 1710849174650,
          "user": {
            "displayName": "Ibrahim Alabdulmohsin",
            "userId": "15347871053891839154"
          },
          "user_tz": -60
        },
        "id": "Y35hcPj6aHrk",
        "outputId": "9d6810a4-20b5-42cf-f300-5a2a66438010"
      },
      "outputs": [
        {
          "data": {
            "image/png": "[encoded data removed]",
            "text/plain": [
              "\u003cFigure size 400x400 with 1 Axes\u003e"
            ]
          },
          "metadata": {},
          "output_type": "display_data"
        }
      ],
      "source": [
        "# see the quality of fit\n",
        "_, y = get_joseph_exponent(X)\n",
        "fig = plot_power_law(DEFAULT_SCALES,  # because we use default granularity levels\n",
        "                     y,\n",
        "                     yscale='log',\n",
        "                     xlabel='scale',\n",
        "                     ylabel='$\\Sigma$')"
      ]
    }
  ],
  "metadata": {
    "colab": {
      "provenance": [
        {
          "file_id": "1S7U9VPWh486zpAJBn8X9ZnO06ThBvS4L",
          "timestamp": 1711479194334
        }
      ],
      "toc_visible": true
    },
    "kernelspec": {
      "display_name": "Python 3",
      "name": "python3"
    },
    "language_info": {
      "name": "python"
    }
  },
  "nbformat": 4,
  "nbformat_minor": 0
}
