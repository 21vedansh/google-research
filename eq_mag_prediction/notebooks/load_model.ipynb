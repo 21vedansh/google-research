{
  "cells": [
    {
      "cell_type": "markdown",
      "metadata": {
        "id": "2Pe8rUDv13WU"
      },
      "source": [
        "Copyright 2024 Google LLC.\n",
        "\n",
        "Licensed under the Apache License, Version 2.0 (the \"License\");"
      ]
    },
    {
      "cell_type": "code",
      "execution_count": null,
      "metadata": {
        "id": "oJURSVoJ1uTL"
      },
      "outputs": [],
      "source": [
        "#@title License\n",
        "# Licensed under the Apache License, Version 2.0 (the \"License\");\n",
        "# you may not use this file except in compliance with the License.\n",
        "# You may obtain a copy of the License at\n",
        "#\n",
        "# https://www.apache.org/licenses/LICENSE-2.0\n",
        "#\n",
        "# Unless required by applicable law or agreed to in writing, software\n",
        "# distributed under the License is distributed on an \"AS IS\" BASIS,\n",
        "# WITHOUT WARRANTIES OR CONDITIONS OF ANY KIND, either express or implied.\n",
        "# See the License for the specific language governing permissions and\n",
        "# limitations under the License."
      ]
    },
    {
      "cell_type": "markdown",
      "metadata": {
        "id": "o3WdeRKdK1_C"
      },
      "source": [
        "# Imports"
      ]
    },
    {
      "cell_type": "code",
      "execution_count": null,
      "metadata": {
        "id": "mbuZCKG-K1_F"
      },
      "outputs": [],
      "source": [
        "import numpy as np\n",
        "import matplotlib as mpl\n",
        "import matplotlib.pyplot as plt\n",
        "import tensorflow_probability as tfp\n",
        "import os\n",
        "import gin\n",
        "import tensorflow as tf\n",
        "import joblib\n",
        "import keras\n",
        "from eq_mag_prediction.forecasting import encoders\n",
        "from eq_mag_prediction.scripts import magnitude_predictor_trainer\n",
        "from eq_mag_prediction.forecasting import training_examples\n",
        "from eq_mag_prediction.forecasting import one_region_model\n",
        "from eq_mag_prediction.utilities import catalog_analysis\n",
        "from eq_mag_prediction.forecasting.training_examples import CatalogDomain\n",
        "from eq_mag_prediction.utilities import data_utils, catalog_filters\n",
        "from eq_mag_prediction.forecasting import metrics\n",
        "from eq_mag_prediction.forecasting.training_examples import CatalogDomain\n",
        "from eq_mag_prediction.forecasting.data_sources import target_catalog\n",
        "from eq_mag_prediction.forecasting.encoders import SeismicityRateEncoder, RecentEarthquakesEncoder, BiggestEarthquakesEncoder, CatalogColumnsEncoder\n",
        "\n"
      ]
    },
    {
      "cell_type": "markdown",
      "metadata": {
        "id": "Fez17u0YK1_I"
      },
      "source": [
        "# Loading and experiment setting"
      ]
    },
    {
      "cell_type": "markdown",
      "metadata": {
        "id": "vE_dJJXdK1_I"
      },
      "source": [
        "## Load model"
      ]
    },
    {
      "cell_type": "code",
      "execution_count": null,
      "metadata": {
        "id": "hac0HuHCaB_0"
      },
      "outputs": [],
      "source": [
        "# MODEL_NAME = 'Hauksson'\n",
        "MODEL_NAME = 'JMA'"
      ]
    },
    {
      "cell_type": "code",
      "execution_count": null,
      "metadata": {
        "id": "nE9t-ni0K1_I"
      },
      "outputs": [],
      "source": [
        "experiment_dir = os.path.join(os.getcwd(), '..', 'results/trained_models/', MODEL_NAME)\n",
        "custom_objects={\n",
        "    '_repeat': encoders._repeat,\n",
        "    }\n",
        "\n",
        "loaded_model = tf.keras.models.load_model(\n",
        "    os.path.join(experiment_dir, 'model'),\n",
        "    custom_objects={'_repeat': encoders._repeat},\n",
        "    compile=False,\n",
        "    # safe_mode=True\n",
        "    )"
      ]
    },
    {
      "cell_type": "markdown",
      "metadata": {
        "id": "aYd_ibAZK1_J"
      },
      "source": [
        "## Set gin"
      ]
    },
    {
      "cell_type": "code",
      "execution_count": null,
      "metadata": {
        "id": "ZFFU9ebgK1_J"
      },
      "outputs": [],
      "source": [
        "with open(os.path.join(experiment_dir, 'config.gin')) as f:\n",
        "  with gin.unlock_config():\n",
        "    gin.parse_config(f.read(), skip_unknown=True)"
      ]
    },
    {
      "cell_type": "code",
      "execution_count": null,
      "metadata": {
        "id": "oEB9v4FpK1_J"
      },
      "outputs": [],
      "source": [
        "print(gin.config_str())"
      ]
    },
    {
      "cell_type": "code",
      "execution_count": null,
      "metadata": {
        "id": "4b31gQmQK1_K"
      },
      "outputs": [],
      "source": [
        "gin.finalize()"
      ]
    },
    {
      "cell_type": "markdown",
      "metadata": {
        "id": "ufV1W3cMK1_K"
      },
      "source": [
        "# Prepare and predict"
      ]
    },
    {
      "cell_type": "markdown",
      "metadata": {
        "id": "Iz8o8UmoK1_L"
      },
      "source": [
        "## Preps"
      ]
    },
    {
      "cell_type": "code",
      "execution_count": null,
      "metadata": {
        "id": "Yl71lIg4K1_L"
      },
      "outputs": [],
      "source": [
        "domain = training_examples.CatalogDomain()\n",
        "labels = training_examples.magnitude_prediction_labels(domain)"
      ]
    },
    {
      "cell_type": "markdown",
      "metadata": {
        "id": "yZ4wwBA1K1_M"
      },
      "source": [
        "## compute and construct features"
      ]
    },
    {
      "cell_type": "markdown",
      "metadata": {
        "id": "MVxYMLGDK1_M"
      },
      "source": [
        "### encoders"
      ]
    },
    {
      "cell_type": "code",
      "execution_count": null,
      "metadata": {
        "id": "tORoxIMzK1_M"
      },
      "outputs": [],
      "source": [
        "scaler_saving_dir = os.path.join(os.getcwd(), '..', f'results/trained_models/{MODEL_NAME}/scalers')\n",
        "\n",
        "\n",
        "labels = training_examples.magnitude_prediction_labels(domain)\n",
        "all_encoders = one_region_model.build_encoders(domain)"
      ]
    },
    {
      "cell_type": "markdown",
      "metadata": {
        "id": "jrQdBcarK1_M"
      },
      "source": [
        "### construct and save"
      ]
    },
    {
      "cell_type": "code",
      "execution_count": null,
      "metadata": {
        "id": "rvgiwSAFK1_M"
      },
      "outputs": [],
      "source": [
        "\n",
        "one_region_model.compute_and_cache_features_scaler_encoder(\n",
        "    domain,\n",
        "    all_encoders,\n",
        "    force_recalculate = True,\n",
        ")"
      ]
    },
    {
      "cell_type": "markdown",
      "metadata": {
        "id": "EBk4-WNNK1_N"
      },
      "source": [
        " ### Reload features"
      ]
    },
    {
      "cell_type": "code",
      "execution_count": null,
      "metadata": {
        "id": "r000AR5VK1_N"
      },
      "outputs": [],
      "source": [
        "\n",
        "features_and_models = one_region_model.load_features_and_construct_models(\n",
        "    domain, all_encoders, scaler_saving_dir\n",
        ")\n",
        "train_features = one_region_model.features_in_order(features_and_models, 0)\n",
        "valid_features = one_region_model.features_in_order(features_and_models, 1)\n",
        "test_features = one_region_model.features_in_order(features_and_models, 2)"
      ]
    },
    {
      "cell_type": "markdown",
      "metadata": {
        "id": "tciXuL5YK1_N"
      },
      "source": [
        "## Predict"
      ]
    },
    {
      "cell_type": "code",
      "execution_count": null,
      "metadata": {
        "id": "tGvSWYufK1_N"
      },
      "outputs": [],
      "source": [
        "test_forecasts = loaded_model.predict(test_features)\n",
        "print(test_forecasts.shape)"
      ]
    },
    {
      "cell_type": "markdown",
      "metadata": {
        "id": "jXo4loKcK1_O"
      },
      "source": [
        "## Plot predictions"
      ]
    },
    {
      "cell_type": "code",
      "execution_count": null,
      "metadata": {
        "id": "sCspWl1wK1_O"
      },
      "outputs": [],
      "source": [
        "#@title utility function\n",
        "def to_rgb_string(rgb_list):\n",
        "  rgb_string = 'rgb('\n",
        "  for n in rgb_list:\n",
        "    rgb_string += f'{n}, '\n",
        "  rgb_string = rgb_string[:-2]\n",
        "  rgb_string += ')'\n",
        "  return rgb_string"
      ]
    },
    {
      "cell_type": "code",
      "execution_count": null,
      "metadata": {
        "id": "Kfv9h0mtK1_O"
      },
      "outputs": [],
      "source": [
        "probability_density_function = metrics.kumaraswamy_mixture_instance\n",
        "LOSS = metrics.MinusLoglikelihoodLoss(probability_density_function, domain.magnitude_threshold)\n",
        "\n",
        "random_var_shift = 0 if not hasattr(LOSS, 'shift') else LOSS.shift\n",
        "random_var_stretch = 7 if not hasattr(LOSS, 'stretch') else LOSS.stretch\n",
        "\n",
        "costum_shift_stretch = lambda x, random_var_shift=random_var_shift, random_var_stretch=random_var_stretch: np.minimum((x - random_var_shift) / random_var_stretch, 1)\n",
        "shift_strech_input = costum_shift_stretch\n",
        "\n",
        "\n",
        "BETA_OF_TRAIN_SET = catalog_analysis.estimate_beta(labels.train_labels, None, 'BPOS')\n",
        "print(BETA_OF_TRAIN_SET)\n",
        "MAG_THRESH = domain.magnitude_threshold\n",
        "print(MAG_THRESH)"
      ]
    },
    {
      "cell_type": "code",
      "execution_count": null,
      "metadata": {
        "id": "rmyfSnT_K1_P"
      },
      "outputs": [],
      "source": [
        "#--- setup data\n",
        "plot_above_thresh = MAG_THRESH\n",
        "m_vec = np.linspace(MAG_THRESH, 7, 500)\n",
        "prob_density_inst = probability_density_function(test_forecasts)\n",
        "prob_vecs = prob_density_inst.prob((m_vec[:, None] - random_var_shift)/random_var_stretch)/random_var_stretch\n"
      ]
    },
    {
      "cell_type": "code",
      "execution_count": null,
      "metadata": {
        "id": "4Ogi74f1K1_P"
      },
      "outputs": [],
      "source": [
        "test_labels_to_plot_from = labels.test_labels[labels.test_labels\u003e=plot_above_thresh]\n",
        "prob_vecs_to_plot_from = prob_vecs.numpy()[:, labels.test_labels\u003e=plot_above_thresh]\n",
        "\n",
        "\n",
        "p_for_mags = np.exp(BETA_OF_TRAIN_SET*test_labels_to_plot_from)\n",
        "p_for_mags /= p_for_mags.sum()\n",
        "# rnd_seed = np.random.RandomState(seed=1902) # nice preview for socal hauksson\n",
        "rnd_seed = np.random.RandomState(seed=1000)\n",
        "label_idxs_to_plot = np.sort(rnd_seed.choice(prob_vecs_to_plot_from.shape[1],100, replace=False, p=p_for_mags))\n",
        "labels_to_plot = test_labels_to_plot_from[label_idxs_to_plot]\n",
        "mpl.rcParams.update({'font.size': 16})"
      ]
    },
    {
      "cell_type": "code",
      "execution_count": null,
      "metadata": {
        "id": "GvcFXDMSK1_V"
      },
      "outputs": [],
      "source": [
        "#@title setup figure\n",
        "num_mags = 25\n",
        "min_mag = 2\n",
        "max_mag = 6.5\n",
        "m_scale = np.linspace(min_mag-0.01, max_mag, num_mags)\n",
        "norm_inst = plt.Normalize(min_mag, max_mag);\n",
        "\n",
        "chosen_colormap = plt.cm.gist_stern_r\n",
        "# chosen_colormap = warn_cold_cmap\n",
        "colors = chosen_colormap(np.linspace(0,1,num_mags))\n",
        "colors2plot = colors[np.argmin(np.abs(test_labels_to_plot_from[label_idxs_to_plot][:,None] - m_scale[None,:]), axis=1)]\n",
        "\n",
        "\n",
        "f_dist_fig, ax_dist_fig = plt.subplots(1,1)\n",
        "\n",
        "for idx, lbl_index in enumerate(label_idxs_to_plot):\n",
        "\n",
        "  p = ax_dist_fig.plot(m_vec, prob_vecs_to_plot_from[:, lbl_index], alpha=0.4, color=colors2plot[idx], linewidth=4);\n",
        "\n",
        "  add_text = False\n",
        "  if add_text:\n",
        "    # add text\n",
        "    y_peak = prob_vecs_to_plot_from[:, lbl_index].max()\n",
        "    x_peak = m_vec[np.argmax(prob_vecs_to_plot_from[:, lbl_index])]\n",
        "    text = str(labels_to_plot[idx])\n",
        "    txt = ax_dist_fig.text(x_peak, y_peak, text);\n",
        "\n",
        "# plot GR train set\n",
        "train_gr_curve = metrics.gr_likelihood(m_vec, BETA_OF_TRAIN_SET, MAG_THRESH)\n",
        "gr_handle = ax_dist_fig.plot(m_vec, train_gr_curve, 'k--', label='train_gr_likelihood', linewidth=3)\n",
        "ax_dist_fig.legend(handles=gr_handle, frameon=False)\n",
        "\n",
        "norm_inst = plt.Normalize(min_mag, max_mag);\n",
        "sm = plt.cm.ScalarMappable(cmap=chosen_colormap, norm=norm_inst);\n",
        "\n",
        "ax_dist_fig.set_xlabel('magnitude')\n",
        "ax_dist_fig.set_ylabel('p(magnitude)')\n",
        "ax_dist_fig.set_xscale('linear')\n",
        "f_dist_fig"
      ]
    },
    {
      "cell_type": "code",
      "execution_count": null,
      "metadata": {
        "id": "p2ctX_vcK1_V"
      },
      "outputs": [],
      "source": []
    }
  ],
  "metadata": {
    "colab": {
      "last_runtime": {
        "build_target": "//intelligence/earthquakes/colab:notebook",
        "kind": "private"
      },
      "provenance": []
    },
    "kernelspec": {
      "display_name": "mag_pred_opensource2",
      "language": "python",
      "name": "python3"
    },
    "language_info": {
      "codemirror_mode": {
        "name": "ipython",
        "version": 3
      },
      "file_extension": ".py",
      "mimetype": "text/x-python",
      "name": "python",
      "nbconvert_exporter": "python",
      "pygments_lexer": "ipython3",
      "version": "3.11.9"
    }
  },
  "nbformat": 4,
  "nbformat_minor": 0
}
