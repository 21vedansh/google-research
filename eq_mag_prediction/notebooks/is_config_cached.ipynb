{
  "cells": [
    {
      "cell_type": "markdown",
      "metadata": {
        "id": "2Pe8rUDv13WU"
      },
      "source": [
        "Copyright 2024 Google LLC.\n",
        "\n",
        "Licensed under the Apache License, Version 2.0 (the \"License\");"
      ]
    },
    {
      "cell_type": "code",
      "execution_count": null,
      "metadata": {
        "id": "oJURSVoJ1uTL"
      },
      "outputs": [],
      "source": [
        "#@title License\n",
        "# Licensed under the Apache License, Version 2.0 (the \"License\");\n",
        "# you may not use this file except in compliance with the License.\n",
        "# You may obtain a copy of the License at\n",
        "#\n",
        "# https://www.apache.org/licenses/LICENSE-2.0\n",
        "#\n",
        "# Unless required by applicable law or agreed to in writing, software\n",
        "# distributed under the License is distributed on an \"AS IS\" BASIS,\n",
        "# WITHOUT WARRANTIES OR CONDITIONS OF ANY KIND, either express or implied.\n",
        "# See the License for the specific language governing permissions and\n",
        "# limitations under the License."
      ]
    },
    {
      "cell_type": "markdown",
      "metadata": {
        "id": "9cH4pdmFVh9B"
      },
      "source": [
        "# Is Config Cached\n",
        "Read from cache dir to analyze and present which configs are already cached and which are missing."
      ]
    },
    {
      "cell_type": "markdown",
      "metadata": {
        "id": "72NzUUtNVFrs"
      },
      "source": [
        "# Imports"
      ]
    },
    {
      "cell_type": "code",
      "execution_count": null,
      "metadata": {
        "id": "4IuOAcd2y1Zu"
      },
      "outputs": [],
      "source": [
        "import gin\n",
        "import numpy as np\n",
        "import pandas as pd\n",
        "import os\n",
        "\n",
        "from IPython.core.interactiveshell import InteractiveShell\n",
        "InteractiveShell.ast_node_interactivity = \"all\"\n",
        "\n",
        "from eq_mag_prediction.forecasting import training_examples\n",
        "from eq_mag_prediction.scripts import magnitude_predictor_trainer   # import unused for gin config\n",
        "from eq_mag_prediction.forecasting import one_region_model\n",
        "from eq_mag_prediction.forecasting import encoders"
      ]
    },
    {
      "cell_type": "markdown",
      "metadata": {
        "id": "4jDK3EQXWPf8"
      },
      "source": [
        "# Read configs"
      ]
    },
    {
      "cell_type": "code",
      "execution_count": null,
      "metadata": {
        "id": "eE2LYNRuIuGP"
      },
      "outputs": [],
      "source": [
        "MODEL_NAME = 'JMA'\n",
        "DEFAULT_FEATURE_CACHE_DIR = os.path.join(os.getcwd(), '..', 'results/cached_features')"
      ]
    },
    {
      "cell_type": "code",
      "execution_count": null,
      "metadata": {
        "id": "4urzkI8dIuGP"
      },
      "outputs": [],
      "source": [
        "experiment_dir = os.path.join(os.getcwd(), '..', 'results/trained_models/', MODEL_NAME)\n",
        "custom_objects={\n",
        "    '_repeat': encoders._repeat,\n",
        "    }\n"
      ]
    },
    {
      "cell_type": "code",
      "execution_count": null,
      "metadata": {
        "id": "TBuPRnqEViSH"
      },
      "outputs": [],
      "source": [
        "# set gin configs\n",
        "with open(os.path.join(experiment_dir, 'config.gin')) as f:\n",
        "    with gin.unlock_config():\n",
        "        gin.parse_config(f.read(), skip_unknown=False)"
      ]
    },
    {
      "cell_type": "code",
      "execution_count": null,
      "metadata": {
        "id": "EvPFixvyvPIS"
      },
      "outputs": [],
      "source": [
        "domain = training_examples.CatalogDomain()\n",
        "all_encoders = one_region_model.build_encoders(domain)"
      ]
    },
    {
      "cell_type": "code",
      "execution_count": null,
      "metadata": {
        "id": "yKDgAELlvb9c"
      },
      "outputs": [],
      "source": [
        "existing_files_dict = {}\n",
        "for encoder in all_encoders.values():\n",
        "  relevant_id = one_region_model.encoder_domain_id(domain, encoder)\n",
        "  relevant_suffixes, files_exist = one_region_model.id_files_exist_in_dir(\n",
        "      relevant_id, DEFAULT_FEATURE_CACHE_DIR\n",
        "  )\n",
        "  files_exist = np.array(files_exist)\n",
        "  suffix_logical = one_region_model._create_suffix_logical(\n",
        "      encoder, relevant_suffixes, files_exist\n",
        "  )\n",
        "  existing_files_dict[encoder.name] = list(\n",
        "      zip(\n",
        "          np.array(relevant_suffixes)[suffix_logical],\n",
        "          files_exist[suffix_logical],\n",
        "      )\n",
        "  )"
      ]
    },
    {
      "cell_type": "code",
      "execution_count": null,
      "metadata": {
        "id": "sEUTIcWi4z2P"
      },
      "outputs": [],
      "source": [
        "def existing_files_dict_to_df(existing_files_dict):\n",
        "  existing_files_summary = pd.DataFrame(columns=['encoder', 'suffix', 'file_exists'])\n",
        "  for k, v in existing_files_dict.items():\n",
        "    for suf in v:\n",
        "      existing_files_summary = pd.concat([\n",
        "          existing_files_summary,\n",
        "          pd.DataFrame({'encoder': k, 'suffix': suf[0], 'file_exists': suf[1], 'cache id': suf[2]}, index=(0,))\n",
        "      ])\n",
        "  return existing_files_summary\n",
        "\n",
        "def existing_files_for_gin_config():\n",
        "  existing_files_dict = {}\n",
        "  for encoder in all_encoders.values():\n",
        "    relevant_id = one_region_model.encoder_domain_id(domain, encoder)\n",
        "    relevant_suffixes, files_exist = one_region_model.id_files_exist_in_dir(\n",
        "        relevant_id, DEFAULT_FEATURE_CACHE_DIR\n",
        "    )\n",
        "    files_exist = np.array(files_exist)\n",
        "    suffix_logical = one_region_model._create_suffix_logical(\n",
        "        encoder, relevant_suffixes, files_exist\n",
        "    )\n",
        "    existing_files_dict[encoder.name] = list(\n",
        "        zip(\n",
        "            np.array(relevant_suffixes)[suffix_logical],\n",
        "            files_exist[suffix_logical],\n",
        "            [relevant_id]*int(suffix_logical.sum()),\n",
        "        )\n",
        "    )\n",
        "  return existing_files_dict_to_df(existing_files_dict).reset_index()\n",
        "\n",
        "def boolean_color(v):\n",
        "    return \"color: green;\" if v else \"color: red;\""
      ]
    },
    {
      "cell_type": "markdown",
      "metadata": {
        "id": "V7oVAZidWaUN"
      },
      "source": [
        "# Present existing files"
      ]
    },
    {
      "cell_type": "code",
      "execution_count": null,
      "metadata": {
        "id": "zAUxkZCzCtv_"
      },
      "outputs": [],
      "source": [
        "existing_files_for_gin_config().style.applymap(boolean_color, subset=['file_exists'])"
      ]
    }
  ],
  "metadata": {
    "colab": {
      "last_runtime": {
        "build_target": "//intelligence/earthquakes/colab:notebook",
        "kind": "private"
      },
      "private_outputs": true,
      "provenance": [
        {
          "file_id": "1x53xF-f9t1YnIIxX-c5f97ogmO_DDl4n",
          "timestamp": 1720022349527
        }
      ]
    },
    "kernelspec": {
      "display_name": "Python 3",
      "name": "python3"
    },
    "language_info": {
      "codemirror_mode": {
        "name": "ipython",
        "version": 3
      },
      "file_extension": ".py",
      "mimetype": "text/x-python",
      "name": "python",
      "nbconvert_exporter": "python",
      "pygments_lexer": "ipython3",
      "version": "3.11.9"
    }
  },
  "nbformat": 4,
  "nbformat_minor": 0
}
